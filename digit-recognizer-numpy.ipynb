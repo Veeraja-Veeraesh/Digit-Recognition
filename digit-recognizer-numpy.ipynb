{
 "cells": [
  {
   "cell_type": "markdown",
   "id": "0d6a6fbb",
   "metadata": {
    "_cell_guid": "b1076dfc-b9ad-4769-8c92-a6c4dae69d19",
    "_uuid": "8f2839f25d086af736a60e9eeb907d3b93b6e0e5",
    "execution": {
     "iopub.execute_input": "2024-02-29T11:00:50.719465Z",
     "iopub.status.busy": "2024-02-29T11:00:50.719045Z",
     "iopub.status.idle": "2024-02-29T11:00:50.727806Z",
     "shell.execute_reply": "2024-02-29T11:00:50.726618Z",
     "shell.execute_reply.started": "2024-02-29T11:00:50.719431Z"
    },
    "papermill": {
     "duration": 0.006234,
     "end_time": "2024-02-29T12:38:22.400133",
     "exception": false,
     "start_time": "2024-02-29T12:38:22.393899",
     "status": "completed"
    },
    "tags": []
   },
   "source": [
    "# Handwritten Digit Classification\n",
    "## Using Just Numpy!!\n",
    "\n",
    "This notebook aims implement the core mathematics behind neural networks, by just using Numpy- a module for operations on large multidimensional matrices.\n",
    "\n",
    "By not using any frameworks such as Tensorflow or Keras, it helped in gaining a deeper understanding of how each node in a neural network operates.\n",
    "\n",
    "It helped in gain a deeper understanding of Gradient Descent, Forward propagation, and backward propagation.\n",
    "\n",
    "The challenges faced during implementing each of these functions, solving them by pen and paper, helped in clearing any existing doubts that I had.\n",
    "\n",
    "Credits to:\n",
    "- Andrew Ng's Machine Learning Specialization on Coursera\n",
    "- 3Blue1Brown's Neural Network playlist on Youtube\n"
   ]
  },
  {
   "cell_type": "markdown",
   "id": "dafd67ab",
   "metadata": {
    "papermill": {
     "duration": 0.005434,
     "end_time": "2024-02-29T12:38:22.411453",
     "exception": false,
     "start_time": "2024-02-29T12:38:22.406019",
     "status": "completed"
    },
    "tags": []
   },
   "source": []
  },
  {
   "cell_type": "code",
   "execution_count": 1,
   "id": "e2ae68d1",
   "metadata": {
    "execution": {
     "iopub.execute_input": "2024-02-29T12:38:22.424755Z",
     "iopub.status.busy": "2024-02-29T12:38:22.424314Z",
     "iopub.status.idle": "2024-02-29T12:38:22.439774Z",
     "shell.execute_reply": "2024-02-29T12:38:22.438557Z"
    },
    "papermill": {
     "duration": 0.025728,
     "end_time": "2024-02-29T12:38:22.442785",
     "exception": false,
     "start_time": "2024-02-29T12:38:22.417057",
     "status": "completed"
    },
    "tags": []
   },
   "outputs": [
    {
     "name": "stdout",
     "output_type": "stream",
     "text": [
      "/kaggle/input/digit-recognizer/sample_submission.csv\n",
      "/kaggle/input/digit-recognizer/train.csv\n",
      "/kaggle/input/digit-recognizer/test.csv\n"
     ]
    }
   ],
   "source": [
    "# Input data files are available in the read-only \"../input/\" directory\n",
    "# For example, running this (by clicking run or pressing Shift+Enter) will list all files under the input directory\n",
    "\n",
    "import os\n",
    "for dirname, _, filenames in os.walk('/kaggle/input'):\n",
    "    for filename in filenames:\n",
    "        print(os.path.join(dirname, filename))\n",
    "\n",
    "# You can write up to 20GB to the current directory (/kaggle/working/) that gets preserved as output when you create a version using \"Save & Run All\" \n",
    "# You can also write temporary files to /kaggle/temp/, but they won't be saved outside of the current session"
   ]
  },
  {
   "cell_type": "markdown",
   "id": "f4835bf1",
   "metadata": {
    "papermill": {
     "duration": 0.005646,
     "end_time": "2024-02-29T12:38:22.454965",
     "exception": false,
     "start_time": "2024-02-29T12:38:22.449319",
     "status": "completed"
    },
    "tags": []
   },
   "source": [
    "### We import the necessary libraries like pandas ans matplotlib for this task apart from numpy\n",
    "#### Pandas only helps in loading the csv data in to a dataframe, which we will be converting into a numpy array\n",
    "#### Matplotlib is useful to display the 28x28 pixel values in a grid"
   ]
  },
  {
   "cell_type": "code",
   "execution_count": 2,
   "id": "a3056046",
   "metadata": {
    "execution": {
     "iopub.execute_input": "2024-02-29T12:38:22.468643Z",
     "iopub.status.busy": "2024-02-29T12:38:22.468006Z",
     "iopub.status.idle": "2024-02-29T12:38:28.010415Z",
     "shell.execute_reply": "2024-02-29T12:38:28.008548Z"
    },
    "papermill": {
     "duration": 5.553173,
     "end_time": "2024-02-29T12:38:28.014042",
     "exception": false,
     "start_time": "2024-02-29T12:38:22.460869",
     "status": "completed"
    },
    "tags": []
   },
   "outputs": [
    {
     "data": {
      "text/html": [
       "<div>\n",
       "<style scoped>\n",
       "    .dataframe tbody tr th:only-of-type {\n",
       "        vertical-align: middle;\n",
       "    }\n",
       "\n",
       "    .dataframe tbody tr th {\n",
       "        vertical-align: top;\n",
       "    }\n",
       "\n",
       "    .dataframe thead th {\n",
       "        text-align: right;\n",
       "    }\n",
       "</style>\n",
       "<table border=\"1\" class=\"dataframe\">\n",
       "  <thead>\n",
       "    <tr style=\"text-align: right;\">\n",
       "      <th></th>\n",
       "      <th>label</th>\n",
       "      <th>pixel0</th>\n",
       "      <th>pixel1</th>\n",
       "      <th>pixel2</th>\n",
       "      <th>pixel3</th>\n",
       "      <th>pixel4</th>\n",
       "      <th>pixel5</th>\n",
       "      <th>pixel6</th>\n",
       "      <th>pixel7</th>\n",
       "      <th>pixel8</th>\n",
       "      <th>...</th>\n",
       "      <th>pixel774</th>\n",
       "      <th>pixel775</th>\n",
       "      <th>pixel776</th>\n",
       "      <th>pixel777</th>\n",
       "      <th>pixel778</th>\n",
       "      <th>pixel779</th>\n",
       "      <th>pixel780</th>\n",
       "      <th>pixel781</th>\n",
       "      <th>pixel782</th>\n",
       "      <th>pixel783</th>\n",
       "    </tr>\n",
       "  </thead>\n",
       "  <tbody>\n",
       "    <tr>\n",
       "      <th>0</th>\n",
       "      <td>1</td>\n",
       "      <td>0</td>\n",
       "      <td>0</td>\n",
       "      <td>0</td>\n",
       "      <td>0</td>\n",
       "      <td>0</td>\n",
       "      <td>0</td>\n",
       "      <td>0</td>\n",
       "      <td>0</td>\n",
       "      <td>0</td>\n",
       "      <td>...</td>\n",
       "      <td>0</td>\n",
       "      <td>0</td>\n",
       "      <td>0</td>\n",
       "      <td>0</td>\n",
       "      <td>0</td>\n",
       "      <td>0</td>\n",
       "      <td>0</td>\n",
       "      <td>0</td>\n",
       "      <td>0</td>\n",
       "      <td>0</td>\n",
       "    </tr>\n",
       "    <tr>\n",
       "      <th>1</th>\n",
       "      <td>0</td>\n",
       "      <td>0</td>\n",
       "      <td>0</td>\n",
       "      <td>0</td>\n",
       "      <td>0</td>\n",
       "      <td>0</td>\n",
       "      <td>0</td>\n",
       "      <td>0</td>\n",
       "      <td>0</td>\n",
       "      <td>0</td>\n",
       "      <td>...</td>\n",
       "      <td>0</td>\n",
       "      <td>0</td>\n",
       "      <td>0</td>\n",
       "      <td>0</td>\n",
       "      <td>0</td>\n",
       "      <td>0</td>\n",
       "      <td>0</td>\n",
       "      <td>0</td>\n",
       "      <td>0</td>\n",
       "      <td>0</td>\n",
       "    </tr>\n",
       "    <tr>\n",
       "      <th>2</th>\n",
       "      <td>1</td>\n",
       "      <td>0</td>\n",
       "      <td>0</td>\n",
       "      <td>0</td>\n",
       "      <td>0</td>\n",
       "      <td>0</td>\n",
       "      <td>0</td>\n",
       "      <td>0</td>\n",
       "      <td>0</td>\n",
       "      <td>0</td>\n",
       "      <td>...</td>\n",
       "      <td>0</td>\n",
       "      <td>0</td>\n",
       "      <td>0</td>\n",
       "      <td>0</td>\n",
       "      <td>0</td>\n",
       "      <td>0</td>\n",
       "      <td>0</td>\n",
       "      <td>0</td>\n",
       "      <td>0</td>\n",
       "      <td>0</td>\n",
       "    </tr>\n",
       "    <tr>\n",
       "      <th>3</th>\n",
       "      <td>4</td>\n",
       "      <td>0</td>\n",
       "      <td>0</td>\n",
       "      <td>0</td>\n",
       "      <td>0</td>\n",
       "      <td>0</td>\n",
       "      <td>0</td>\n",
       "      <td>0</td>\n",
       "      <td>0</td>\n",
       "      <td>0</td>\n",
       "      <td>...</td>\n",
       "      <td>0</td>\n",
       "      <td>0</td>\n",
       "      <td>0</td>\n",
       "      <td>0</td>\n",
       "      <td>0</td>\n",
       "      <td>0</td>\n",
       "      <td>0</td>\n",
       "      <td>0</td>\n",
       "      <td>0</td>\n",
       "      <td>0</td>\n",
       "    </tr>\n",
       "    <tr>\n",
       "      <th>4</th>\n",
       "      <td>0</td>\n",
       "      <td>0</td>\n",
       "      <td>0</td>\n",
       "      <td>0</td>\n",
       "      <td>0</td>\n",
       "      <td>0</td>\n",
       "      <td>0</td>\n",
       "      <td>0</td>\n",
       "      <td>0</td>\n",
       "      <td>0</td>\n",
       "      <td>...</td>\n",
       "      <td>0</td>\n",
       "      <td>0</td>\n",
       "      <td>0</td>\n",
       "      <td>0</td>\n",
       "      <td>0</td>\n",
       "      <td>0</td>\n",
       "      <td>0</td>\n",
       "      <td>0</td>\n",
       "      <td>0</td>\n",
       "      <td>0</td>\n",
       "    </tr>\n",
       "  </tbody>\n",
       "</table>\n",
       "<p>5 rows × 785 columns</p>\n",
       "</div>"
      ],
      "text/plain": [
       "   label  pixel0  pixel1  pixel2  pixel3  pixel4  pixel5  pixel6  pixel7  \\\n",
       "0      1       0       0       0       0       0       0       0       0   \n",
       "1      0       0       0       0       0       0       0       0       0   \n",
       "2      1       0       0       0       0       0       0       0       0   \n",
       "3      4       0       0       0       0       0       0       0       0   \n",
       "4      0       0       0       0       0       0       0       0       0   \n",
       "\n",
       "   pixel8  ...  pixel774  pixel775  pixel776  pixel777  pixel778  pixel779  \\\n",
       "0       0  ...         0         0         0         0         0         0   \n",
       "1       0  ...         0         0         0         0         0         0   \n",
       "2       0  ...         0         0         0         0         0         0   \n",
       "3       0  ...         0         0         0         0         0         0   \n",
       "4       0  ...         0         0         0         0         0         0   \n",
       "\n",
       "   pixel780  pixel781  pixel782  pixel783  \n",
       "0         0         0         0         0  \n",
       "1         0         0         0         0  \n",
       "2         0         0         0         0  \n",
       "3         0         0         0         0  \n",
       "4         0         0         0         0  \n",
       "\n",
       "[5 rows x 785 columns]"
      ]
     },
     "execution_count": 2,
     "metadata": {},
     "output_type": "execute_result"
    }
   ],
   "source": [
    "import numpy as np\n",
    "import pandas as pd\n",
    "from matplotlib import pyplot as plt\n",
    "\n",
    "data = pd.read_csv('/kaggle/input/digit-recognizer/train.csv')\n",
    "data.head()"
   ]
  },
  {
   "cell_type": "markdown",
   "id": "8628bb2e",
   "metadata": {
    "papermill": {
     "duration": 0.00914,
     "end_time": "2024-02-29T12:38:28.034248",
     "exception": false,
     "start_time": "2024-02-29T12:38:28.025108",
     "status": "completed"
    },
    "tags": []
   },
   "source": [
    "#### We convert the dataframe in to a numpy array and shuffle the data before we split into the train and test sets"
   ]
  },
  {
   "cell_type": "code",
   "execution_count": 3,
   "id": "3f05e740",
   "metadata": {
    "execution": {
     "iopub.execute_input": "2024-02-29T12:38:28.051846Z",
     "iopub.status.busy": "2024-02-29T12:38:28.050786Z",
     "iopub.status.idle": "2024-02-29T12:38:28.927797Z",
     "shell.execute_reply": "2024-02-29T12:38:28.926435Z"
    },
    "papermill": {
     "duration": 0.889928,
     "end_time": "2024-02-29T12:38:28.930650",
     "exception": false,
     "start_time": "2024-02-29T12:38:28.040722",
     "status": "completed"
    },
    "tags": []
   },
   "outputs": [],
   "source": [
    "data = np.array(data)\n",
    "m, n = data.shape\n",
    "np.random.shuffle(data) # shuffle before splitting into dev and training sets\n",
    "\n",
    "#getting the test data set\n",
    "data_dev = data[0:1000].T\n",
    "Y_dev = data_dev[0]\n",
    "X_dev = data_dev[1:n]\n",
    "X_dev = X_dev / 255.\n",
    "\n",
    "#getting the train dataset\n",
    "data_train = data[1000:m].T\n",
    "Y_train = data_train[0]\n",
    "X_train = data_train[1:n]\n",
    "X_train = X_train / 255.\n",
    "_,m_train = X_train.shape"
   ]
  },
  {
   "cell_type": "code",
   "execution_count": 4,
   "id": "24c25eb8",
   "metadata": {
    "execution": {
     "iopub.execute_input": "2024-02-29T12:38:28.945751Z",
     "iopub.status.busy": "2024-02-29T12:38:28.945337Z",
     "iopub.status.idle": "2024-02-29T12:38:28.952328Z",
     "shell.execute_reply": "2024-02-29T12:38:28.951315Z"
    },
    "papermill": {
     "duration": 0.017549,
     "end_time": "2024-02-29T12:38:28.954810",
     "exception": false,
     "start_time": "2024-02-29T12:38:28.937261",
     "status": "completed"
    },
    "tags": []
   },
   "outputs": [
    {
     "data": {
      "text/plain": [
       "(784,)"
      ]
     },
     "execution_count": 4,
     "metadata": {},
     "output_type": "execute_result"
    }
   ],
   "source": [
    "X_train[:, 0].shape"
   ]
  },
  {
   "cell_type": "code",
   "execution_count": 5,
   "id": "ed3b3875",
   "metadata": {
    "execution": {
     "iopub.execute_input": "2024-02-29T12:38:28.969916Z",
     "iopub.status.busy": "2024-02-29T12:38:28.969482Z",
     "iopub.status.idle": "2024-02-29T12:38:28.977123Z",
     "shell.execute_reply": "2024-02-29T12:38:28.975981Z"
    },
    "papermill": {
     "duration": 0.017833,
     "end_time": "2024-02-29T12:38:28.979454",
     "exception": false,
     "start_time": "2024-02-29T12:38:28.961621",
     "status": "completed"
    },
    "tags": []
   },
   "outputs": [
    {
     "data": {
      "text/plain": [
       "array([9, 8, 7, ..., 1, 8, 0])"
      ]
     },
     "execution_count": 5,
     "metadata": {},
     "output_type": "execute_result"
    }
   ],
   "source": [
    "Y_train"
   ]
  },
  {
   "cell_type": "markdown",
   "id": "6d85841c",
   "metadata": {
    "papermill": {
     "duration": 0.00652,
     "end_time": "2024-02-29T12:38:28.992830",
     "exception": false,
     "start_time": "2024-02-29T12:38:28.986310",
     "status": "completed"
    },
    "tags": []
   },
   "source": [
    "Our NN will have a simple two-layer architecture. Input layer $a^{[0]}$ will have 784 units for each of the 784 pixels in each 28x28 input image. A hidden layer $a^{[1]}$ will have 10 units with ReLU activation, and finally our output layer $a^{[2]}$ will have 10 units corresponding to the ten digit classes with softmax activation.\n",
    "\n",
    "**Forward propagation**\n",
    "\n",
    "$$Z^{[1]} = W^{[1]} X + b^{[1]}$$\n",
    "$$A^{[1]} = g_{\\text{ReLU}}(Z^{[1]}))$$\n",
    "$$Z^{[2]} = W^{[2]} A^{[1]} + b^{[2]}$$\n",
    "$$A^{[2]} = g_{\\text{softmax}}(Z^{[2]})$$\n",
    "\n",
    "**Backward propagation**\n",
    "\n",
    "$$dZ^{[2]} = A^{[2]} - Y$$\n",
    "$$dW^{[2]} = \\frac{1}{m} dZ^{[2]} A^{[1]T}$$\n",
    "$$dB^{[2]} = \\frac{1}{m} \\Sigma {dZ^{[2]}}$$\n",
    "$$dZ^{[1]} = W^{[2]T} dZ^{[2]} .* g^{[1]\\prime} (z^{[1]})$$\n",
    "$$dW^{[1]} = \\frac{1}{m} dZ^{[1]} A^{[0]T}$$\n",
    "$$dB^{[1]} = \\frac{1}{m} \\Sigma {dZ^{[1]}}$$\n",
    "\n",
    "**Parameter updates**\n",
    "\n",
    "$$W^{[2]} := W^{[2]} - \\alpha dW^{[2]}$$\n",
    "$$b^{[2]} := b^{[2]} - \\alpha db^{[2]}$$\n",
    "$$W^{[1]} := W^{[1]} - \\alpha dW^{[1]}$$\n",
    "$$b^{[1]} := b^{[1]} - \\alpha db^{[1]}$$\n",
    "\n",
    ">  Only the Formatting of the above markdown was generated by AI"
   ]
  },
  {
   "cell_type": "code",
   "execution_count": 6,
   "id": "93f20777",
   "metadata": {
    "execution": {
     "iopub.execute_input": "2024-02-29T12:38:29.008734Z",
     "iopub.status.busy": "2024-02-29T12:38:29.007971Z",
     "iopub.status.idle": "2024-02-29T12:38:29.023307Z",
     "shell.execute_reply": "2024-02-29T12:38:29.022075Z"
    },
    "papermill": {
     "duration": 0.027825,
     "end_time": "2024-02-29T12:38:29.027487",
     "exception": false,
     "start_time": "2024-02-29T12:38:28.999662",
     "status": "completed"
    },
    "tags": []
   },
   "outputs": [],
   "source": [
    "\n",
    "def init_params():\n",
    "    #np.random.rand(10, 784) - 0.5: generates 10x784 matrix, consisting of the weights for the 10 neurons for each i/p from input layer\n",
    "    #we subtract 0.5 to shift activations so that they are centered at 0\n",
    "    W1 = np.random.rand(10, 784) - 0.5 \n",
    "    b1 = np.random.rand(10, 1) - 0.5\n",
    "    W2 = np.random.rand(10, 10) - 0.5\n",
    "    b2 = np.random.rand(10, 1) - 0.5\n",
    "    return W1, b1, W2, b2\n",
    "\n",
    "def ReLU(Z):\n",
    "    #Defining the activation function to be used for each neuron\n",
    "    return np.maximum(Z, 0)\n",
    "\n",
    "def softmax(Z):\n",
    "    #the function to be used in the output layer n order to convert the activations in to probabilities\n",
    "    A = np.exp(Z) / sum(np.exp(Z))\n",
    "    return A\n",
    "    \n",
    "def forward_prop(W1, b1, W2, b2, X):\n",
    "    \n",
    "    #calculating the activation values for each node in the first and 2nd layers\n",
    "    Z1 = W1.dot(X) + b1\n",
    "    A1 = ReLU(Z1)\n",
    "    Z2 = W2.dot(A1) + b2\n",
    "    A2 = softmax(Z2)\n",
    "    return Z1, A1, Z2, A2\n",
    "\n",
    "def ReLU_deriv(Z):\n",
    "    return Z > 0\n",
    "\n",
    "def one_hot(Y):\n",
    "    \n",
    "    #we use the one hot encoder in order to convert the target values into a 10 bit binary value, where the position of 1 indicates the value of the number\n",
    "    one_hot_Y = np.zeros((Y.size, Y.max() + 1))\n",
    "    one_hot_Y[np.arange(Y.size), Y] = 1\n",
    "    one_hot_Y = one_hot_Y.T\n",
    "    return one_hot_Y\n",
    "\n",
    "def backward_prop(Z1, A1, Z2, A2, W1, W2, X, Y):\n",
    "    \n",
    "    #calculating the \n",
    "    one_hot_Y = one_hot(Y)\n",
    "    dZ2 = A2 - one_hot_Y #error at 2nd layer between predicted and actual value\n",
    "    dW2 = 1 / m * dZ2.dot(A1.T) #gradient of the loss function with respect to 2nd layer weights\n",
    "    db2 = 1 / m * np.sum(dZ2) #Gradient of the loss function with respect to the second layer bias\n",
    "    \n",
    "    dZ1 = W2.T.dot(dZ2) * ReLU_deriv(Z1) #calculating delta of first layer\n",
    "    dW1 = 1 / m * dZ1.dot(X.T) #finding out the gradient of first layer\n",
    "    db1 = 1 / m * np.sum(dZ1)\n",
    "    return dW1, db1, dW2, db2\n",
    "\n",
    "def update_params(W1, b1, W2, b2, dW1, db1, dW2, db2, alpha):\n",
    "    W1 = W1 - alpha * dW1\n",
    "    b1 = b1 - alpha * db1    \n",
    "    W2 = W2 - alpha * dW2  \n",
    "    b2 = b2 - alpha * db2    \n",
    "    return W1, b1, W2, b2"
   ]
  },
  {
   "cell_type": "code",
   "execution_count": 7,
   "id": "cc444f05",
   "metadata": {
    "execution": {
     "iopub.execute_input": "2024-02-29T12:38:29.043893Z",
     "iopub.status.busy": "2024-02-29T12:38:29.043436Z",
     "iopub.status.idle": "2024-02-29T12:38:29.053364Z",
     "shell.execute_reply": "2024-02-29T12:38:29.052310Z"
    },
    "papermill": {
     "duration": 0.020594,
     "end_time": "2024-02-29T12:38:29.055685",
     "exception": false,
     "start_time": "2024-02-29T12:38:29.035091",
     "status": "completed"
    },
    "tags": []
   },
   "outputs": [],
   "source": [
    "def get_predictions(A2):\n",
    "    # Get the index of the maximum element in each row of A2 (axis=0), gets the target label\n",
    "    return np.argmax(A2, 0)\n",
    "\n",
    "def get_accuracy(predictions, Y):\n",
    "    print(predictions, Y)\n",
    "    # Count the number of correctly predicted labels\n",
    "    correct = np.sum(predictions == Y)\n",
    "    return correct / Y.size # Calculate and return the accuracy (fraction of correct predictions)\n",
    "\n",
    "def gradient_descent(X, Y, alpha, iterations):\n",
    "    W1, b1, W2, b2 = init_params()\n",
    "    for i in range(iterations):\n",
    "        Z1, A1, Z2, A2 = forward_prop(W1, b1, W2, b2, X) # Forward propagation: calculate activations for each layer\n",
    "        dW1, db1, dW2, db2 = backward_prop(Z1, A1, Z2, A2, W1, W2, X, Y) # Backpropagation: calculate gradients\n",
    "        W1, b1, W2, b2 = update_params(W1, b1, W2, b2, dW1, db1, dW2, db2, alpha) # Update weights and biases using learning rate\n",
    "        if i % 10 == 0:\n",
    "            print(\"Iteration: \", i)\n",
    "            predictions = get_predictions(A2)\n",
    "            print(get_accuracy(predictions, Y))\n",
    "    return W1, b1, W2, b2"
   ]
  },
  {
   "cell_type": "code",
   "execution_count": 8,
   "id": "47c1fd0e",
   "metadata": {
    "execution": {
     "iopub.execute_input": "2024-02-29T12:38:29.070998Z",
     "iopub.status.busy": "2024-02-29T12:38:29.070574Z",
     "iopub.status.idle": "2024-02-29T12:39:33.801189Z",
     "shell.execute_reply": "2024-02-29T12:39:33.799547Z"
    },
    "papermill": {
     "duration": 64.743831,
     "end_time": "2024-02-29T12:39:33.806275",
     "exception": false,
     "start_time": "2024-02-29T12:38:29.062444",
     "status": "completed"
    },
    "tags": []
   },
   "outputs": [
    {
     "name": "stdout",
     "output_type": "stream",
     "text": [
      "Iteration:  0\n",
      "[6 3 0 ... 3 6 6] [9 8 7 ... 1 8 0]\n",
      "0.1197560975609756\n",
      "Iteration:  10\n",
      "[4 9 7 ... 7 6 0] [9 8 7 ... 1 8 0]\n",
      "0.33495121951219514\n",
      "Iteration:  20\n",
      "[4 1 1 ... 1 6 1] [9 8 7 ... 1 8 0]\n",
      "0.3405609756097561\n",
      "Iteration:  30\n",
      "[9 8 7 ... 1 9 5] [9 8 7 ... 1 8 0]\n",
      "0.5552926829268293\n",
      "Iteration:  40\n",
      "[4 3 7 ... 1 8 5] [9 8 7 ... 1 8 0]\n",
      "0.6910975609756097\n",
      "Iteration:  50\n",
      "[4 8 7 ... 1 8 0] [9 8 7 ... 1 8 0]\n",
      "0.6886585365853658\n",
      "Iteration:  60\n",
      "[4 3 7 ... 1 8 3] [9 8 7 ... 1 8 0]\n",
      "0.7561219512195122\n",
      "Iteration:  70\n",
      "[4 3 7 ... 1 8 3] [9 8 7 ... 1 8 0]\n",
      "0.7891707317073171\n",
      "Iteration:  80\n",
      "[9 3 7 ... 1 8 3] [9 8 7 ... 1 8 0]\n",
      "0.8017560975609757\n",
      "Iteration:  90\n",
      "[9 3 7 ... 1 8 3] [9 8 7 ... 1 8 0]\n",
      "0.8221219512195121\n",
      "Iteration:  100\n",
      "[4 3 7 ... 1 8 3] [9 8 7 ... 1 8 0]\n",
      "0.809\n",
      "Iteration:  110\n",
      "[4 8 7 ... 1 8 5] [9 8 7 ... 1 8 0]\n",
      "0.855\n",
      "Iteration:  120\n",
      "[4 8 7 ... 1 8 5] [9 8 7 ... 1 8 0]\n",
      "0.8572682926829268\n",
      "Iteration:  130\n",
      "[4 8 7 ... 1 8 0] [9 8 7 ... 1 8 0]\n",
      "0.8618780487804878\n",
      "Iteration:  140\n",
      "[4 8 7 ... 1 8 5] [9 8 7 ... 1 8 0]\n",
      "0.8711219512195122\n",
      "Iteration:  150\n",
      "[4 8 7 ... 1 8 0] [9 8 7 ... 1 8 0]\n",
      "0.8708292682926829\n",
      "Iteration:  160\n",
      "[4 8 7 ... 1 8 0] [9 8 7 ... 1 8 0]\n",
      "0.8727317073170732\n",
      "Iteration:  170\n",
      "[4 8 7 ... 1 8 0] [9 8 7 ... 1 8 0]\n",
      "0.864780487804878\n",
      "Iteration:  180\n",
      "[4 8 7 ... 1 8 5] [9 8 7 ... 1 8 0]\n",
      "0.8866585365853659\n",
      "Iteration:  190\n",
      "[4 5 7 ... 1 8 5] [9 8 7 ... 1 8 0]\n",
      "0.883390243902439\n",
      "Iteration:  200\n",
      "[4 8 7 ... 1 8 5] [9 8 7 ... 1 8 0]\n",
      "0.8824634146341463\n",
      "Iteration:  210\n",
      "[4 8 7 ... 1 8 5] [9 8 7 ... 1 8 0]\n",
      "0.8908292682926829\n",
      "Iteration:  220\n",
      "[4 8 7 ... 1 8 5] [9 8 7 ... 1 8 0]\n",
      "0.8909268292682927\n",
      "Iteration:  230\n",
      "[4 8 7 ... 1 8 5] [9 8 7 ... 1 8 0]\n",
      "0.8890975609756098\n",
      "Iteration:  240\n",
      "[4 8 7 ... 1 8 5] [9 8 7 ... 1 8 0]\n",
      "0.8971707317073171\n",
      "Iteration:  250\n",
      "[4 8 7 ... 1 8 5] [9 8 7 ... 1 8 0]\n",
      "0.8979268292682927\n",
      "Iteration:  260\n",
      "[4 8 7 ... 1 8 0] [9 8 7 ... 1 8 0]\n",
      "0.8906829268292683\n",
      "Iteration:  270\n",
      "[4 8 7 ... 1 8 0] [9 8 7 ... 1 8 0]\n",
      "0.8978780487804878\n",
      "Iteration:  280\n",
      "[9 8 7 ... 1 8 0] [9 8 7 ... 1 8 0]\n",
      "0.9041463414634147\n",
      "Iteration:  290\n",
      "[4 8 7 ... 1 8 0] [9 8 7 ... 1 8 0]\n",
      "0.9029512195121951\n",
      "Iteration:  300\n",
      "[4 8 7 ... 1 8 0] [9 8 7 ... 1 8 0]\n",
      "0.8926585365853659\n",
      "Iteration:  310\n",
      "[4 8 7 ... 1 8 0] [9 8 7 ... 1 8 0]\n",
      "0.905390243902439\n",
      "Iteration:  320\n",
      "[9 8 7 ... 1 8 0] [9 8 7 ... 1 8 0]\n",
      "0.9094146341463415\n",
      "Iteration:  330\n",
      "[4 8 7 ... 1 8 0] [9 8 7 ... 1 8 0]\n",
      "0.9063414634146342\n",
      "Iteration:  340\n",
      "[4 8 7 ... 1 8 0] [9 8 7 ... 1 8 0]\n",
      "0.8740975609756098\n",
      "Iteration:  350\n",
      "[9 8 7 ... 1 8 0] [9 8 7 ... 1 8 0]\n",
      "0.9106585365853659\n",
      "Iteration:  360\n",
      "[9 8 7 ... 1 8 0] [9 8 7 ... 1 8 0]\n",
      "0.9125853658536586\n",
      "Iteration:  370\n",
      "[9 8 7 ... 1 8 0] [9 8 7 ... 1 8 0]\n",
      "0.9134390243902439\n",
      "Iteration:  380\n",
      "[9 8 7 ... 1 8 0] [9 8 7 ... 1 8 0]\n",
      "0.911219512195122\n",
      "Iteration:  390\n",
      "[9 3 7 ... 1 8 0] [9 8 7 ... 1 8 0]\n",
      "0.8928048780487805\n",
      "Iteration:  400\n",
      "[4 8 7 ... 1 8 0] [9 8 7 ... 1 8 0]\n",
      "0.9119512195121952\n",
      "Iteration:  410\n",
      "[4 8 7 ... 1 8 0] [9 8 7 ... 1 8 0]\n",
      "0.9120731707317074\n",
      "Iteration:  420\n",
      "[4 8 7 ... 1 8 0] [9 8 7 ... 1 8 0]\n",
      "0.9055853658536586\n",
      "Iteration:  430\n",
      "[4 8 7 ... 1 8 0] [9 8 7 ... 1 8 0]\n",
      "0.9124878048780488\n",
      "Iteration:  440\n",
      "[9 8 7 ... 1 8 0] [9 8 7 ... 1 8 0]\n",
      "0.9168780487804878\n",
      "Iteration:  450\n",
      "[9 8 7 ... 1 8 0] [9 8 7 ... 1 8 0]\n",
      "0.917609756097561\n",
      "Iteration:  460\n",
      "[9 8 7 ... 1 8 0] [9 8 7 ... 1 8 0]\n",
      "0.9160487804878049\n",
      "Iteration:  470\n",
      "[4 8 7 ... 1 8 0] [9 8 7 ... 1 8 0]\n",
      "0.8947804878048781\n",
      "Iteration:  480\n",
      "[9 8 7 ... 1 8 0] [9 8 7 ... 1 8 0]\n",
      "0.9185121951219513\n",
      "Iteration:  490\n",
      "[9 8 7 ... 1 8 0] [9 8 7 ... 1 8 0]\n",
      "0.9205121951219513\n"
     ]
    }
   ],
   "source": [
    "W1, b1, W2, b2 = gradient_descent(X_train, Y_train, 0.80, 500)"
   ]
  },
  {
   "cell_type": "code",
   "execution_count": 9,
   "id": "5aef2570",
   "metadata": {
    "execution": {
     "iopub.execute_input": "2024-02-29T12:39:33.857936Z",
     "iopub.status.busy": "2024-02-29T12:39:33.857129Z",
     "iopub.status.idle": "2024-02-29T12:39:33.875928Z",
     "shell.execute_reply": "2024-02-29T12:39:33.874421Z"
    },
    "papermill": {
     "duration": 0.050034,
     "end_time": "2024-02-29T12:39:33.881004",
     "exception": false,
     "start_time": "2024-02-29T12:39:33.830970",
     "status": "completed"
    },
    "tags": []
   },
   "outputs": [],
   "source": [
    "def make_predictions(X, W1, b1, W2, b2):\n",
    "    # Get the predicted labels using the final activations\n",
    "    _, _, _, A2 = forward_prop(W1, b1, W2, b2, X)\n",
    "    predictions = get_predictions(A2)\n",
    "    return predictions\n",
    "\n",
    "def test_prediction(index, W1, b1, W2, b2):\n",
    "    # Extract the image at the specified index from the training data\n",
    "    current_image = X_train[:, index, None]\n",
    "    prediction = make_predictions(X_train[:, index, None], W1, b1, W2, b2) #make the prediction on the data\n",
    "    label = Y_train[index]\n",
    "    print(\"Prediction: \", prediction)\n",
    "    print(\"Label: \", label)\n",
    "    \n",
    "    #configuring plot to display the image\n",
    "    current_image = current_image.reshape((28, 28)) * 255\n",
    "    plt.gray()\n",
    "    plt.imshow(current_image, interpolation='nearest')\n",
    "    plt.show()"
   ]
  },
  {
   "cell_type": "code",
   "execution_count": 10,
   "id": "a2d55df8",
   "metadata": {
    "execution": {
     "iopub.execute_input": "2024-02-29T12:39:33.924985Z",
     "iopub.status.busy": "2024-02-29T12:39:33.924605Z",
     "iopub.status.idle": "2024-02-29T12:39:34.654440Z",
     "shell.execute_reply": "2024-02-29T12:39:34.653451Z"
    },
    "papermill": {
     "duration": 0.752278,
     "end_time": "2024-02-29T12:39:34.657165",
     "exception": false,
     "start_time": "2024-02-29T12:39:33.904887",
     "status": "completed"
    },
    "tags": []
   },
   "outputs": [
    {
     "name": "stdout",
     "output_type": "stream",
     "text": [
      "Prediction:  [9]\n",
      "Label:  9\n"
     ]
    },
    {
     "data": {
      "image/png": "[encoded data removed]",
      "text/plain": [
       "<Figure size 640x480 with 1 Axes>"
      ]
     },
     "metadata": {},
     "output_type": "display_data"
    },
    {
     "name": "stdout",
     "output_type": "stream",
     "text": [
      "Prediction:  [8]\n",
      "Label:  8\n"
     ]
    },
    {
     "data": {
      "image/png": "[encoded data removed]",
      "text/plain": [
       "<Figure size 640x480 with 1 Axes>"
      ]
     },
     "metadata": {},
     "output_type": "display_data"
    },
    {
     "name": "stdout",
     "output_type": "stream",
     "text": [
      "Prediction:  [7]\n",
      "Label:  7\n"
     ]
    },
    {
     "data": {
      "image/png": "[encoded data removed]",
      "text/plain": [
       "<Figure size 640x480 with 1 Axes>"
      ]
     },
     "metadata": {},
     "output_type": "display_data"
    },
    {
     "name": "stdout",
     "output_type": "stream",
     "text": [
      "Prediction:  [6]\n",
      "Label:  6\n"
     ]
    },
    {
     "data": {
      "image/png": "[encoded data removed]",
      "text/plain": [
       "<Figure size 640x480 with 1 Axes>"
      ]
     },
     "metadata": {},
     "output_type": "display_data"
    }
   ],
   "source": [
    "test_prediction(0, W1, b1, W2, b2)\n",
    "test_prediction(1, W1, b1, W2, b2)\n",
    "test_prediction(2, W1, b1, W2, b2)\n",
    "test_prediction(3, W1, b1, W2, b2)"
   ]
  },
  {
   "cell_type": "code",
   "execution_count": 11,
   "id": "fdd52bc4",
   "metadata": {
    "execution": {
     "iopub.execute_input": "2024-02-29T12:39:34.684783Z",
     "iopub.status.busy": "2024-02-29T12:39:34.684383Z",
     "iopub.status.idle": "2024-02-29T12:39:34.710467Z",
     "shell.execute_reply": "2024-02-29T12:39:34.708927Z"
    },
    "papermill": {
     "duration": 0.045122,
     "end_time": "2024-02-29T12:39:34.715306",
     "exception": false,
     "start_time": "2024-02-29T12:39:34.670184",
     "status": "completed"
    },
    "tags": []
   },
   "outputs": [
    {
     "name": "stdout",
     "output_type": "stream",
     "text": [
      "[5 0 6 7 6 5 2 1 6 6 1 3 4 6 9 4 8 8 7 9 5 7 7 1 7 1 0 8 7 5 4 7 6 5 8 4 2\n",
      " 5 8 9 1 6 7 6 0 4 2 6 4 6 3 1 7 3 0 1 9 9 1 2 2 3 1 1 6 0 1 1 4 9 4 7 8 5\n",
      " 3 2 1 6 9 0 4 1 1 6 6 8 1 6 3 7 7 0 1 6 2 1 6 1 1 4 6 4 1 9 8 5 6 9 1 8 5\n",
      " 2 2 7 9 5 7 3 4 1 2 6 4 6 1 2 4 3 8 2 7 2 9 7 5 2 2 0 4 1 8 0 3 0 1 0 2 7\n",
      " 6 9 4 8 0 7 6 8 8 0 1 2 5 1 8 6 4 1 3 5 8 3 3 2 5 0 4 3 8 4 2 2 7 8 9 9 7\n",
      " 7 2 5 4 8 9 3 7 6 9 2 8 9 6 2 8 0 6 5 6 8 6 0 0 4 4 6 9 9 4 2 5 3 7 9 7 3\n",
      " 1 1 3 4 3 5 2 0 1 9 6 6 6 9 3 1 2 4 0 3 0 3 5 6 1 4 5 3 5 6 5 9 2 8 2 6 2\n",
      " 3 6 0 8 5 0 8 6 6 8 8 5 1 7 5 6 0 1 3 3 1 7 0 1 3 9 8 6 0 8 6 5 3 3 2 8 4\n",
      " 8 2 1 6 7 6 0 0 6 8 5 9 7 9 5 3 3 2 9 8 9 5 7 7 5 8 9 9 8 7 9 4 1 8 0 8 4\n",
      " 8 2 7 7 7 3 7 6 7 2 8 9 4 7 0 8 2 9 4 7 3 5 3 9 5 7 9 3 2 7 4 1 9 1 0 7 9\n",
      " 6 2 4 0 9 5 2 4 8 9 7 1 5 6 1 7 9 9 9 9 9 9 6 2 6 6 4 0 3 0 0 4 3 1 9 0 7\n",
      " 7 1 1 9 2 8 4 7 9 8 7 1 1 9 7 5 7 6 4 8 3 9 4 1 8 9 3 8 2 3 0 5 4 7 0 6 5\n",
      " 5 4 4 4 4 1 0 6 1 8 3 7 9 7 6 1 5 6 0 3 6 0 7 5 6 2 0 7 6 9 1 8 1 4 4 2 7\n",
      " 8 8 6 8 6 9 9 5 7 1 3 4 3 3 4 6 6 3 0 8 5 6 3 6 6 6 0 8 4 6 2 5 8 2 9 4 9\n",
      " 2 9 2 5 4 3 4 8 6 8 2 5 4 1 5 4 4 6 0 8 1 1 5 4 1 2 0 1 3 6 3 9 0 9 7 0 5\n",
      " 0 5 7 8 4 6 0 8 2 6 5 8 9 2 3 3 1 5 0 7 2 0 0 6 8 3 3 4 6 9 6 5 4 0 0 7 2\n",
      " 0 1 6 1 7 7 0 0 3 3 1 2 7 4 4 0 0 0 4 1 9 4 1 6 6 5 3 3 8 3 6 0 4 1 3 6 1\n",
      " 2 7 0 5 7 3 7 3 0 5 2 4 3 2 5 2 0 3 1 2 2 8 0 4 2 8 9 7 2 3 3 5 5 7 8 5 4\n",
      " 5 8 9 4 6 1 5 1 7 0 3 7 6 2 6 8 4 6 3 9 0 7 4 6 8 0 5 4 5 8 0 5 1 9 1 6 7\n",
      " 8 1 7 2 6 2 0 1 8 4 0 3 2 9 0 5 5 5 9 1 3 6 1 5 0 8 5 6 7 5 0 3 9 7 6 4 8\n",
      " 5 2 3 2 3 0 3 2 8 7 6 6 2 3 3 6 5 0 3 3 3 7 9 5 1 4 1 9 8 2 3 1 8 4 5 8 9\n",
      " 7 5 2 7 1 3 3 0 8 0 9 0 9 6 3 8 6 3 7 8 0 5 4 6 4 0 6 2 3 2 5 3 5 8 6 4 0\n",
      " 6 3 5 8 8 9 0 7 5 5 7 4 2 0 1 4 2 3 0 0 0 4 3 3 1 5 9 0 3 7 7 0 9 3 9 0 9\n",
      " 1 4 3 5 7 3 8 5 7 0 5 0 6 5 0 0 4 2 3 8 1 8 0 9 7 3 1 2 3 5 9 6 8 9 7 4 8\n",
      " 3 5 9 2 7 7 0 4 7 0 0 5 3 8 4 8 6 4 0 0 0 4 7 2 6 0 8 7 3 8 7 8 7 3 3 6 7\n",
      " 2 6 7 4 0 7 3 2 6 4 4 1 7 7 6 3 0 4 8 8 8 5 1 1 8 7 2 7 9 1 6 0 4 7 4 9 6\n",
      " 1 8 2 6 0 5 8 1 1 5 1 8 3 6 6 8 7 6 1 3 8 3 9 9 5 6 5 9 9 5 7 4 3 0 3 2 7\n",
      " 3] [5 0 6 7 6 5 2 1 6 6 1 5 4 6 9 4 8 8 7 9 5 7 7 1 7 1 0 8 7 5 4 7 6 5 8 4 2\n",
      " 5 8 9 1 6 7 6 0 4 2 6 4 6 3 1 7 3 5 1 4 9 1 2 2 3 1 1 6 0 1 1 4 7 4 7 5 5\n",
      " 3 2 1 3 9 0 4 1 1 6 6 8 1 6 3 3 7 0 1 6 2 1 6 1 1 4 6 8 1 9 8 5 6 9 1 8 5\n",
      " 6 2 7 9 5 7 3 4 1 5 6 4 6 1 2 4 3 8 2 7 2 9 2 5 2 2 0 4 1 8 0 3 0 1 0 2 7\n",
      " 6 9 4 8 0 7 6 8 8 0 8 2 5 1 8 6 4 1 3 5 8 3 3 2 5 0 4 3 8 4 2 2 7 8 9 9 7\n",
      " 7 2 5 4 8 9 3 7 6 9 2 8 7 6 2 8 0 6 5 6 8 6 0 0 4 4 6 9 9 4 2 5 3 7 9 1 3\n",
      " 1 1 3 4 5 5 2 0 1 9 6 6 5 9 3 1 2 5 4 3 0 3 5 6 1 4 5 3 8 6 0 9 2 8 2 6 2\n",
      " 3 6 0 8 3 0 8 6 6 8 8 5 1 7 5 6 2 1 3 3 1 7 0 1 3 9 8 6 0 8 6 5 3 9 8 8 4\n",
      " 8 2 1 6 7 6 0 0 6 8 5 9 7 9 5 3 3 2 9 8 9 5 7 7 5 8 9 7 8 7 9 4 1 8 0 8 5\n",
      " 8 2 7 7 7 2 7 6 7 2 8 9 4 7 0 8 2 9 4 7 3 5 3 9 5 7 9 3 2 7 4 1 9 1 0 7 9\n",
      " 6 7 4 0 9 5 2 4 8 4 7 1 5 6 9 7 9 9 9 9 9 9 6 2 3 6 4 0 3 0 0 9 3 1 9 0 7\n",
      " 7 1 1 9 2 8 4 7 9 8 7 1 8 9 9 5 7 6 4 8 3 9 4 1 8 9 3 8 2 3 0 5 4 7 0 6 5\n",
      " 5 4 4 4 4 1 0 6 8 3 5 7 9 7 6 1 5 6 0 3 6 0 7 5 5 2 0 7 6 9 1 8 1 7 4 2 7\n",
      " 8 3 5 8 6 9 9 3 7 1 3 4 3 3 4 6 6 5 0 8 5 6 3 6 6 6 0 8 5 2 2 5 8 2 9 4 7\n",
      " 2 9 2 5 4 3 4 8 6 8 2 3 4 1 5 4 4 6 0 8 1 1 5 4 1 2 0 1 3 6 3 4 0 9 7 0 6\n",
      " 0 5 7 5 4 9 0 8 2 6 5 8 9 2 3 3 1 5 0 7 2 0 0 6 8 3 3 0 6 9 6 5 4 0 0 7 2\n",
      " 0 1 6 1 7 7 5 0 3 3 1 2 7 4 9 0 0 0 4 1 9 4 1 6 6 5 3 3 8 3 6 0 4 1 5 6 1\n",
      " 7 7 0 5 7 3 2 3 0 5 2 4 3 2 5 2 0 3 1 2 2 3 0 4 2 8 9 7 2 3 3 5 5 7 3 5 4\n",
      " 5 8 9 4 6 1 5 1 7 0 3 7 6 2 6 8 4 6 3 9 0 7 8 6 8 0 5 4 5 8 0 2 1 9 1 6 7\n",
      " 8 1 7 2 6 2 0 1 8 4 0 3 2 9 0 5 5 5 9 1 3 6 1 5 0 8 5 6 7 5 0 3 4 7 6 4 8\n",
      " 5 2 3 2 3 0 3 2 8 7 6 6 2 3 3 6 5 0 3 3 5 7 9 8 1 4 1 9 8 2 3 1 2 4 5 8 9\n",
      " 7 5 2 7 1 3 3 0 5 0 9 0 9 6 3 8 6 3 7 5 0 5 4 6 4 0 6 2 5 2 5 3 5 8 6 4 0\n",
      " 6 3 5 8 8 9 2 7 5 6 7 4 2 0 1 9 2 3 0 0 0 4 3 3 1 8 9 0 3 7 7 0 9 3 9 0 9\n",
      " 1 4 3 5 7 3 8 5 2 0 5 0 6 5 0 0 7 2 3 8 1 8 0 9 7 3 1 2 3 5 9 6 1 9 7 4 8\n",
      " 3 5 9 2 7 7 0 4 7 0 0 5 7 8 4 8 6 4 0 0 0 4 7 2 6 0 8 7 3 8 7 8 7 3 3 6 7\n",
      " 3 5 7 4 0 7 3 3 6 4 9 1 2 7 6 3 5 4 8 8 3 5 1 1 8 7 2 2 7 1 6 0 4 7 4 9 6\n",
      " 1 8 2 6 0 5 8 1 1 5 1 8 3 6 6 8 7 6 1 3 8 3 9 9 5 6 5 9 9 3 7 4 3 0 3 2 7\n",
      " 3]\n",
      "We get accuracy of:  91.4\n"
     ]
    }
   ],
   "source": [
    "dev_predictions = make_predictions(X_dev, W1, b1, W2, b2)\n",
    "print(\"We get accuracy of: \",get_accuracy(dev_predictions, Y_dev)*100)"
   ]
  }
 ],
 "metadata": {
  "kaggle": {
   "accelerator": "none",
   "dataSources": [
    {
     "databundleVersionId": 861823,
     "sourceId": 3004,
     "sourceType": "competition"
    }
   ],
   "dockerImageVersionId": 30646,
   "isGpuEnabled": false,
   "isInternetEnabled": false,
   "language": "python",
   "sourceType": "notebook"
  },
  "kernelspec": {
   "display_name": "Python 3",
   "language": "python",
   "name": "python3"
  },
  "language_info": {
   "codemirror_mode": {
    "name": "ipython",
    "version": 3
   },
   "file_extension": ".py",
   "mimetype": "text/x-python",
   "name": "python",
   "nbconvert_exporter": "python",
   "pygments_lexer": "ipython3",
   "version": "3.10.13"
  },
  "papermill": {
   "default_parameters": {},
   "duration": 75.900819,
   "end_time": "2024-02-29T12:39:35.272719",
   "environment_variables": {},
   "exception": null,
   "input_path": "__notebook__.ipynb",
   "output_path": "__notebook__.ipynb",
   "parameters": {},
   "start_time": "2024-02-29T12:38:19.371900",
   "version": "2.5.0"
  }
 },
 "nbformat": 4,
 "nbformat_minor": 5
}
