{
 "cells": [
  {
   "cell_type": "code",
   "execution_count": 1,
   "id": "16b91a8d",
   "metadata": {
    "_cell_guid": "b1076dfc-b9ad-4769-8c92-a6c4dae69d19",
    "_uuid": "8f2839f25d086af736a60e9eeb907d3b93b6e0e5",
    "execution": {
     "iopub.execute_input": "2024-02-29T11:04:10.795196Z",
     "iopub.status.busy": "2024-02-29T11:04:10.794681Z",
     "iopub.status.idle": "2024-02-29T11:04:10.811805Z",
     "shell.execute_reply": "2024-02-29T11:04:10.810242Z"
    },
    "papermill": {
     "duration": 0.026627,
     "end_time": "2024-02-29T11:04:10.814376",
     "exception": false,
     "start_time": "2024-02-29T11:04:10.787749",
     "status": "completed"
    },
    "tags": []
   },
   "outputs": [
    {
     "name": "stdout",
     "output_type": "stream",
     "text": [
      "/kaggle/input/digit-recognizer/sample_submission.csv\n",
      "/kaggle/input/digit-recognizer/train.csv\n",
      "/kaggle/input/digit-recognizer/test.csv\n"
     ]
    }
   ],
   "source": [
    "# Input data files are available in the read-only \"../input/\" directory\n",
    "# For example, running this (by clicking run or pressing Shift+Enter) will list all files under the input directory\n",
    "\n",
    "import os\n",
    "for dirname, _, filenames in os.walk('/kaggle/input'):\n",
    "    for filename in filenames:\n",
    "        print(os.path.join(dirname, filename))\n",
    "\n",
    "# You can write up to 20GB to the current directory (/kaggle/working/) that gets preserved as output when you create a version using \"Save & Run All\" \n",
    "# You can also write temporary files to /kaggle/temp/, but they won't be saved outside of the current session"
   ]
  },
  {
   "cell_type": "code",
   "execution_count": 2,
   "id": "81e75c60",
   "metadata": {
    "execution": {
     "iopub.execute_input": "2024-02-29T11:04:10.826306Z",
     "iopub.status.busy": "2024-02-29T11:04:10.825897Z",
     "iopub.status.idle": "2024-02-29T11:04:15.852628Z",
     "shell.execute_reply": "2024-02-29T11:04:15.851489Z"
    },
    "papermill": {
     "duration": 5.035261,
     "end_time": "2024-02-29T11:04:15.854821",
     "exception": false,
     "start_time": "2024-02-29T11:04:10.819560",
     "status": "completed"
    },
    "tags": []
   },
   "outputs": [
    {
     "data": {
      "text/html": [
       "<div>\n",
       "<style scoped>\n",
       "    .dataframe tbody tr th:only-of-type {\n",
       "        vertical-align: middle;\n",
       "    }\n",
       "\n",
       "    .dataframe tbody tr th {\n",
       "        vertical-align: top;\n",
       "    }\n",
       "\n",
       "    .dataframe thead th {\n",
       "        text-align: right;\n",
       "    }\n",
       "</style>\n",
       "<table border=\"1\" class=\"dataframe\">\n",
       "  <thead>\n",
       "    <tr style=\"text-align: right;\">\n",
       "      <th></th>\n",
       "      <th>label</th>\n",
       "      <th>pixel0</th>\n",
       "      <th>pixel1</th>\n",
       "      <th>pixel2</th>\n",
       "      <th>pixel3</th>\n",
       "      <th>pixel4</th>\n",
       "      <th>pixel5</th>\n",
       "      <th>pixel6</th>\n",
       "      <th>pixel7</th>\n",
       "      <th>pixel8</th>\n",
       "      <th>...</th>\n",
       "      <th>pixel774</th>\n",
       "      <th>pixel775</th>\n",
       "      <th>pixel776</th>\n",
       "      <th>pixel777</th>\n",
       "      <th>pixel778</th>\n",
       "      <th>pixel779</th>\n",
       "      <th>pixel780</th>\n",
       "      <th>pixel781</th>\n",
       "      <th>pixel782</th>\n",
       "      <th>pixel783</th>\n",
       "    </tr>\n",
       "  </thead>\n",
       "  <tbody>\n",
       "    <tr>\n",
       "      <th>0</th>\n",
       "      <td>1</td>\n",
       "      <td>0</td>\n",
       "      <td>0</td>\n",
       "      <td>0</td>\n",
       "      <td>0</td>\n",
       "      <td>0</td>\n",
       "      <td>0</td>\n",
       "      <td>0</td>\n",
       "      <td>0</td>\n",
       "      <td>0</td>\n",
       "      <td>...</td>\n",
       "      <td>0</td>\n",
       "      <td>0</td>\n",
       "      <td>0</td>\n",
       "      <td>0</td>\n",
       "      <td>0</td>\n",
       "      <td>0</td>\n",
       "      <td>0</td>\n",
       "      <td>0</td>\n",
       "      <td>0</td>\n",
       "      <td>0</td>\n",
       "    </tr>\n",
       "    <tr>\n",
       "      <th>1</th>\n",
       "      <td>0</td>\n",
       "      <td>0</td>\n",
       "      <td>0</td>\n",
       "      <td>0</td>\n",
       "      <td>0</td>\n",
       "      <td>0</td>\n",
       "      <td>0</td>\n",
       "      <td>0</td>\n",
       "      <td>0</td>\n",
       "      <td>0</td>\n",
       "      <td>...</td>\n",
       "      <td>0</td>\n",
       "      <td>0</td>\n",
       "      <td>0</td>\n",
       "      <td>0</td>\n",
       "      <td>0</td>\n",
       "      <td>0</td>\n",
       "      <td>0</td>\n",
       "      <td>0</td>\n",
       "      <td>0</td>\n",
       "      <td>0</td>\n",
       "    </tr>\n",
       "    <tr>\n",
       "      <th>2</th>\n",
       "      <td>1</td>\n",
       "      <td>0</td>\n",
       "      <td>0</td>\n",
       "      <td>0</td>\n",
       "      <td>0</td>\n",
       "      <td>0</td>\n",
       "      <td>0</td>\n",
       "      <td>0</td>\n",
       "      <td>0</td>\n",
       "      <td>0</td>\n",
       "      <td>...</td>\n",
       "      <td>0</td>\n",
       "      <td>0</td>\n",
       "      <td>0</td>\n",
       "      <td>0</td>\n",
       "      <td>0</td>\n",
       "      <td>0</td>\n",
       "      <td>0</td>\n",
       "      <td>0</td>\n",
       "      <td>0</td>\n",
       "      <td>0</td>\n",
       "    </tr>\n",
       "    <tr>\n",
       "      <th>3</th>\n",
       "      <td>4</td>\n",
       "      <td>0</td>\n",
       "      <td>0</td>\n",
       "      <td>0</td>\n",
       "      <td>0</td>\n",
       "      <td>0</td>\n",
       "      <td>0</td>\n",
       "      <td>0</td>\n",
       "      <td>0</td>\n",
       "      <td>0</td>\n",
       "      <td>...</td>\n",
       "      <td>0</td>\n",
       "      <td>0</td>\n",
       "      <td>0</td>\n",
       "      <td>0</td>\n",
       "      <td>0</td>\n",
       "      <td>0</td>\n",
       "      <td>0</td>\n",
       "      <td>0</td>\n",
       "      <td>0</td>\n",
       "      <td>0</td>\n",
       "    </tr>\n",
       "    <tr>\n",
       "      <th>4</th>\n",
       "      <td>0</td>\n",
       "      <td>0</td>\n",
       "      <td>0</td>\n",
       "      <td>0</td>\n",
       "      <td>0</td>\n",
       "      <td>0</td>\n",
       "      <td>0</td>\n",
       "      <td>0</td>\n",
       "      <td>0</td>\n",
       "      <td>0</td>\n",
       "      <td>...</td>\n",
       "      <td>0</td>\n",
       "      <td>0</td>\n",
       "      <td>0</td>\n",
       "      <td>0</td>\n",
       "      <td>0</td>\n",
       "      <td>0</td>\n",
       "      <td>0</td>\n",
       "      <td>0</td>\n",
       "      <td>0</td>\n",
       "      <td>0</td>\n",
       "    </tr>\n",
       "  </tbody>\n",
       "</table>\n",
       "<p>5 rows × 785 columns</p>\n",
       "</div>"
      ],
      "text/plain": [
       "   label  pixel0  pixel1  pixel2  pixel3  pixel4  pixel5  pixel6  pixel7  \\\n",
       "0      1       0       0       0       0       0       0       0       0   \n",
       "1      0       0       0       0       0       0       0       0       0   \n",
       "2      1       0       0       0       0       0       0       0       0   \n",
       "3      4       0       0       0       0       0       0       0       0   \n",
       "4      0       0       0       0       0       0       0       0       0   \n",
       "\n",
       "   pixel8  ...  pixel774  pixel775  pixel776  pixel777  pixel778  pixel779  \\\n",
       "0       0  ...         0         0         0         0         0         0   \n",
       "1       0  ...         0         0         0         0         0         0   \n",
       "2       0  ...         0         0         0         0         0         0   \n",
       "3       0  ...         0         0         0         0         0         0   \n",
       "4       0  ...         0         0         0         0         0         0   \n",
       "\n",
       "   pixel780  pixel781  pixel782  pixel783  \n",
       "0         0         0         0         0  \n",
       "1         0         0         0         0  \n",
       "2         0         0         0         0  \n",
       "3         0         0         0         0  \n",
       "4         0         0         0         0  \n",
       "\n",
       "[5 rows x 785 columns]"
      ]
     },
     "execution_count": 2,
     "metadata": {},
     "output_type": "execute_result"
    }
   ],
   "source": [
    "import numpy as np\n",
    "import pandas as pd\n",
    "from matplotlib import pyplot as plt\n",
    "\n",
    "data = pd.read_csv('/kaggle/input/digit-recognizer/train.csv')\n",
    "data.head()"
   ]
  },
  {
   "cell_type": "code",
   "execution_count": 3,
   "id": "c7644d01",
   "metadata": {
    "execution": {
     "iopub.execute_input": "2024-02-29T11:04:15.867748Z",
     "iopub.status.busy": "2024-02-29T11:04:15.867325Z",
     "iopub.status.idle": "2024-02-29T11:04:16.776404Z",
     "shell.execute_reply": "2024-02-29T11:04:16.775249Z"
    },
    "papermill": {
     "duration": 0.919202,
     "end_time": "2024-02-29T11:04:16.779639",
     "exception": false,
     "start_time": "2024-02-29T11:04:15.860437",
     "status": "completed"
    },
    "tags": []
   },
   "outputs": [],
   "source": [
    "data = np.array(data)\n",
    "m, n = data.shape\n",
    "np.random.shuffle(data) # shuffle before splitting into dev and training sets\n",
    "\n",
    "data_dev = data[0:1000].T\n",
    "Y_dev = data_dev[0]\n",
    "X_dev = data_dev[1:n]\n",
    "X_dev = X_dev / 255.\n",
    "\n",
    "data_train = data[1000:m].T\n",
    "Y_train = data_train[0]\n",
    "X_train = data_train[1:n]\n",
    "X_train = X_train / 255.\n",
    "_,m_train = X_train.shape"
   ]
  },
  {
   "cell_type": "code",
   "execution_count": 4,
   "id": "8610d4c6",
   "metadata": {
    "execution": {
     "iopub.execute_input": "2024-02-29T11:04:16.796094Z",
     "iopub.status.busy": "2024-02-29T11:04:16.795665Z",
     "iopub.status.idle": "2024-02-29T11:04:16.803218Z",
     "shell.execute_reply": "2024-02-29T11:04:16.802105Z"
    },
    "papermill": {
     "duration": 0.019404,
     "end_time": "2024-02-29T11:04:16.805505",
     "exception": false,
     "start_time": "2024-02-29T11:04:16.786101",
     "status": "completed"
    },
    "tags": []
   },
   "outputs": [
    {
     "data": {
      "text/plain": [
       "(784,)"
      ]
     },
     "execution_count": 4,
     "metadata": {},
     "output_type": "execute_result"
    }
   ],
   "source": [
    "X_train[:, 0].shape"
   ]
  },
  {
   "cell_type": "code",
   "execution_count": 5,
   "id": "7c4297e8",
   "metadata": {
    "execution": {
     "iopub.execute_input": "2024-02-29T11:04:16.818495Z",
     "iopub.status.busy": "2024-02-29T11:04:16.817692Z",
     "iopub.status.idle": "2024-02-29T11:04:16.827183Z",
     "shell.execute_reply": "2024-02-29T11:04:16.825015Z"
    },
    "papermill": {
     "duration": 0.019212,
     "end_time": "2024-02-29T11:04:16.830252",
     "exception": false,
     "start_time": "2024-02-29T11:04:16.811040",
     "status": "completed"
    },
    "tags": []
   },
   "outputs": [
    {
     "data": {
      "text/plain": [
       "array([5, 9, 3, ..., 0, 6, 8])"
      ]
     },
     "execution_count": 5,
     "metadata": {},
     "output_type": "execute_result"
    }
   ],
   "source": [
    "Y_train"
   ]
  },
  {
   "cell_type": "code",
   "execution_count": 6,
   "id": "64e962f6",
   "metadata": {
    "execution": {
     "iopub.execute_input": "2024-02-29T11:04:16.843750Z",
     "iopub.status.busy": "2024-02-29T11:04:16.843380Z",
     "iopub.status.idle": "2024-02-29T11:04:16.857748Z",
     "shell.execute_reply": "2024-02-29T11:04:16.856724Z"
    },
    "papermill": {
     "duration": 0.024166,
     "end_time": "2024-02-29T11:04:16.860211",
     "exception": false,
     "start_time": "2024-02-29T11:04:16.836045",
     "status": "completed"
    },
    "tags": []
   },
   "outputs": [],
   "source": [
    "def init_params():\n",
    "    W1 = np.random.rand(10, 784) - 0.5\n",
    "    b1 = np.random.rand(10, 1) - 0.5\n",
    "    W2 = np.random.rand(10, 10) - 0.5\n",
    "    b2 = np.random.rand(10, 1) - 0.5\n",
    "    return W1, b1, W2, b2\n",
    "\n",
    "def ReLU(Z):\n",
    "    return np.maximum(Z, 0)\n",
    "\n",
    "def softmax(Z):\n",
    "    A = np.exp(Z) / sum(np.exp(Z))\n",
    "    return A\n",
    "    \n",
    "def forward_prop(W1, b1, W2, b2, X):\n",
    "    Z1 = W1.dot(X) + b1\n",
    "    A1 = ReLU(Z1)\n",
    "    Z2 = W2.dot(A1) + b2\n",
    "    A2 = softmax(Z2)\n",
    "    return Z1, A1, Z2, A2\n",
    "\n",
    "def ReLU_deriv(Z):\n",
    "    return Z > 0\n",
    "\n",
    "def one_hot(Y):\n",
    "    one_hot_Y = np.zeros((Y.size, Y.max() + 1))\n",
    "    one_hot_Y[np.arange(Y.size), Y] = 1\n",
    "    one_hot_Y = one_hot_Y.T\n",
    "    return one_hot_Y\n",
    "\n",
    "def backward_prop(Z1, A1, Z2, A2, W1, W2, X, Y):\n",
    "    one_hot_Y = one_hot(Y)\n",
    "    dZ2 = A2 - one_hot_Y\n",
    "    dW2 = 1 / m * dZ2.dot(A1.T)\n",
    "    db2 = 1 / m * np.sum(dZ2)\n",
    "    dZ1 = W2.T.dot(dZ2) * ReLU_deriv(Z1)\n",
    "    dW1 = 1 / m * dZ1.dot(X.T)\n",
    "    db1 = 1 / m * np.sum(dZ1)\n",
    "    return dW1, db1, dW2, db2\n",
    "\n",
    "def update_params(W1, b1, W2, b2, dW1, db1, dW2, db2, alpha):\n",
    "    W1 = W1 - alpha * dW1\n",
    "    b1 = b1 - alpha * db1    \n",
    "    W2 = W2 - alpha * dW2  \n",
    "    b2 = b2 - alpha * db2    \n",
    "    return W1, b1, W2, b2"
   ]
  },
  {
   "cell_type": "code",
   "execution_count": 7,
   "id": "3ece5a16",
   "metadata": {
    "execution": {
     "iopub.execute_input": "2024-02-29T11:04:16.873332Z",
     "iopub.status.busy": "2024-02-29T11:04:16.872905Z",
     "iopub.status.idle": "2024-02-29T11:04:16.882179Z",
     "shell.execute_reply": "2024-02-29T11:04:16.881080Z"
    },
    "papermill": {
     "duration": 0.018764,
     "end_time": "2024-02-29T11:04:16.884481",
     "exception": false,
     "start_time": "2024-02-29T11:04:16.865717",
     "status": "completed"
    },
    "tags": []
   },
   "outputs": [],
   "source": [
    "def get_predictions(A2):\n",
    "    return np.argmax(A2, 0)\n",
    "\n",
    "def get_accuracy(predictions, Y):\n",
    "    print(predictions, Y)\n",
    "    return np.sum(predictions == Y) / Y.size\n",
    "\n",
    "def gradient_descent(X, Y, alpha, iterations):\n",
    "    W1, b1, W2, b2 = init_params()\n",
    "    for i in range(iterations):\n",
    "        Z1, A1, Z2, A2 = forward_prop(W1, b1, W2, b2, X)\n",
    "        dW1, db1, dW2, db2 = backward_prop(Z1, A1, Z2, A2, W1, W2, X, Y)\n",
    "        W1, b1, W2, b2 = update_params(W1, b1, W2, b2, dW1, db1, dW2, db2, alpha)\n",
    "        if i % 10 == 0:\n",
    "            print(\"Iteration: \", i)\n",
    "            predictions = get_predictions(A2)\n",
    "            print(get_accuracy(predictions, Y))\n",
    "    return W1, b1, W2, b2"
   ]
  },
  {
   "cell_type": "code",
   "execution_count": 8,
   "id": "169213c4",
   "metadata": {
    "execution": {
     "iopub.execute_input": "2024-02-29T11:04:16.897563Z",
     "iopub.status.busy": "2024-02-29T11:04:16.896786Z",
     "iopub.status.idle": "2024-02-29T11:05:21.670401Z",
     "shell.execute_reply": "2024-02-29T11:05:21.668778Z"
    },
    "papermill": {
     "duration": 64.784437,
     "end_time": "2024-02-29T11:05:21.674572",
     "exception": false,
     "start_time": "2024-02-29T11:04:16.890135",
     "status": "completed"
    },
    "tags": []
   },
   "outputs": [
    {
     "name": "stdout",
     "output_type": "stream",
     "text": [
      "Iteration:  0\n",
      "[6 6 6 ... 3 8 0] [5 9 3 ... 0 6 8]\n",
      "0.05370731707317073\n",
      "Iteration:  10\n",
      "[8 8 8 ... 2 0 2] [5 9 3 ... 0 6 8]\n",
      "0.2467560975609756\n",
      "Iteration:  20\n",
      "[8 7 3 ... 0 0 2] [5 9 3 ... 0 6 8]\n",
      "0.5077073170731707\n",
      "Iteration:  30\n",
      "[8 8 3 ... 7 2 2] [5 9 3 ... 0 6 8]\n",
      "0.4835121951219512\n",
      "Iteration:  40\n",
      "[3 4 3 ... 0 6 8] [5 9 3 ... 0 6 8]\n",
      "0.670219512195122\n",
      "Iteration:  50\n",
      "[5 9 5 ... 0 6 8] [5 9 3 ... 0 6 8]\n",
      "0.6662926829268293\n",
      "Iteration:  60\n",
      "[5 4 5 ... 0 6 8] [5 9 3 ... 0 6 8]\n",
      "0.6630487804878049\n",
      "Iteration:  70\n",
      "[5 9 3 ... 0 6 8] [5 9 3 ... 0 6 8]\n",
      "0.7223658536585366\n",
      "Iteration:  80\n",
      "[5 9 3 ... 0 6 8] [5 9 3 ... 0 6 8]\n",
      "0.7671463414634146\n",
      "Iteration:  90\n",
      "[5 9 3 ... 0 6 8] [5 9 3 ... 0 6 8]\n",
      "0.7769024390243903\n",
      "Iteration:  100\n",
      "[3 9 3 ... 0 6 8] [5 9 3 ... 0 6 8]\n",
      "0.7706829268292683\n",
      "Iteration:  110\n",
      "[8 9 3 ... 0 6 8] [5 9 3 ... 0 6 8]\n",
      "0.7781707317073171\n",
      "Iteration:  120\n",
      "[5 9 3 ... 0 6 8] [5 9 3 ... 0 6 8]\n",
      "0.7504634146341463\n",
      "Iteration:  130\n",
      "[5 9 3 ... 0 6 8] [5 9 3 ... 0 6 8]\n",
      "0.7739756097560976\n",
      "Iteration:  140\n",
      "[5 9 3 ... 0 6 8] [5 9 3 ... 0 6 8]\n",
      "0.8195365853658536\n",
      "Iteration:  150\n",
      "[8 9 3 ... 0 6 8] [5 9 3 ... 0 6 8]\n",
      "0.8064146341463415\n",
      "Iteration:  160\n",
      "[8 9 3 ... 0 6 8] [5 9 3 ... 0 6 8]\n",
      "0.817\n",
      "Iteration:  170\n",
      "[3 9 3 ... 0 6 8] [5 9 3 ... 0 6 8]\n",
      "0.8040975609756098\n",
      "Iteration:  180\n",
      "[3 9 3 ... 0 6 8] [5 9 3 ... 0 6 8]\n",
      "0.8290487804878048\n",
      "Iteration:  190\n",
      "[8 9 3 ... 0 6 8] [5 9 3 ... 0 6 8]\n",
      "0.8263170731707317\n",
      "Iteration:  200\n",
      "[8 9 3 ... 0 6 8] [5 9 3 ... 0 6 8]\n",
      "0.8302439024390244\n",
      "Iteration:  210\n",
      "[5 9 3 ... 0 6 8] [5 9 3 ... 0 6 8]\n",
      "0.8269268292682926\n",
      "Iteration:  220\n",
      "[5 9 3 ... 0 6 8] [5 9 3 ... 0 6 8]\n",
      "0.8449512195121951\n",
      "Iteration:  230\n",
      "[5 9 3 ... 0 6 8] [5 9 3 ... 0 6 8]\n",
      "0.8236341463414634\n",
      "Iteration:  240\n",
      "[5 9 3 ... 0 6 8] [5 9 3 ... 0 6 8]\n",
      "0.8624878048780488\n",
      "Iteration:  250\n",
      "[8 9 3 ... 0 6 8] [5 9 3 ... 0 6 8]\n",
      "0.8322195121951219\n",
      "Iteration:  260\n",
      "[5 9 3 ... 0 6 8] [5 9 3 ... 0 6 8]\n",
      "0.8517560975609756\n",
      "Iteration:  270\n",
      "[5 9 3 ... 0 6 8] [5 9 3 ... 0 6 8]\n",
      "0.8502195121951219\n",
      "Iteration:  280\n",
      "[8 9 3 ... 0 6 8] [5 9 3 ... 0 6 8]\n",
      "0.8481463414634146\n",
      "Iteration:  290\n",
      "[5 9 3 ... 0 6 8] [5 9 3 ... 0 6 8]\n",
      "0.8594878048780488\n",
      "Iteration:  300\n",
      "[5 9 3 ... 0 6 8] [5 9 3 ... 0 6 8]\n",
      "0.8581707317073171\n",
      "Iteration:  310\n",
      "[3 9 3 ... 0 6 8] [5 9 3 ... 0 6 8]\n",
      "0.8609512195121951\n",
      "Iteration:  320\n",
      "[5 9 3 ... 0 6 8] [5 9 3 ... 0 6 8]\n",
      "0.8653414634146341\n",
      "Iteration:  330\n",
      "[5 9 3 ... 0 6 8] [5 9 3 ... 0 6 8]\n",
      "0.8638780487804878\n",
      "Iteration:  340\n",
      "[5 9 3 ... 0 6 8] [5 9 3 ... 0 6 8]\n",
      "0.855\n",
      "Iteration:  350\n",
      "[5 9 3 ... 0 6 8] [5 9 3 ... 0 6 8]\n",
      "0.8530487804878049\n",
      "Iteration:  360\n",
      "[5 9 3 ... 0 6 8] [5 9 3 ... 0 6 8]\n",
      "0.878219512195122\n",
      "Iteration:  370\n",
      "[5 9 3 ... 0 6 8] [5 9 3 ... 0 6 8]\n",
      "0.8730243902439024\n",
      "Iteration:  380\n",
      "[5 9 3 ... 0 6 8] [5 9 3 ... 0 6 8]\n",
      "0.853\n",
      "Iteration:  390\n",
      "[5 9 3 ... 0 6 8] [5 9 3 ... 0 6 8]\n",
      "0.8827804878048781\n",
      "Iteration:  400\n",
      "[5 9 3 ... 0 6 8] [5 9 3 ... 0 6 8]\n",
      "0.8784146341463415\n",
      "Iteration:  410\n",
      "[5 9 3 ... 0 6 8] [5 9 3 ... 0 6 8]\n",
      "0.8456341463414634\n",
      "Iteration:  420\n",
      "[5 9 3 ... 0 6 8] [5 9 3 ... 0 6 8]\n",
      "0.8825365853658537\n",
      "Iteration:  430\n",
      "[5 9 3 ... 0 6 8] [5 9 3 ... 0 6 8]\n",
      "0.880219512195122\n",
      "Iteration:  440\n",
      "[5 9 3 ... 0 2 8] [5 9 3 ... 0 6 8]\n",
      "0.8700731707317073\n",
      "Iteration:  450\n",
      "[5 9 3 ... 0 2 8] [5 9 3 ... 0 6 8]\n",
      "0.8822926829268293\n",
      "Iteration:  460\n",
      "[5 9 3 ... 0 6 8] [5 9 3 ... 0 6 8]\n",
      "0.8814390243902439\n",
      "Iteration:  470\n",
      "[5 9 3 ... 0 6 8] [5 9 3 ... 0 6 8]\n",
      "0.8630243902439024\n",
      "Iteration:  480\n",
      "[5 9 3 ... 0 6 8] [5 9 3 ... 0 6 8]\n",
      "0.8866341463414634\n",
      "Iteration:  490\n",
      "[5 9 3 ... 0 2 8] [5 9 3 ... 0 6 8]\n",
      "0.8895609756097561\n"
     ]
    }
   ],
   "source": [
    "W1, b1, W2, b2 = gradient_descent(X_train, Y_train, 0.80, 500)"
   ]
  },
  {
   "cell_type": "code",
   "execution_count": 9,
   "id": "673cac6b",
   "metadata": {
    "execution": {
     "iopub.execute_input": "2024-02-29T11:05:21.722557Z",
     "iopub.status.busy": "2024-02-29T11:05:21.721854Z",
     "iopub.status.idle": "2024-02-29T11:05:21.736044Z",
     "shell.execute_reply": "2024-02-29T11:05:21.734767Z"
    },
    "papermill": {
     "duration": 0.042448,
     "end_time": "2024-02-29T11:05:21.739815",
     "exception": false,
     "start_time": "2024-02-29T11:05:21.697367",
     "status": "completed"
    },
    "tags": []
   },
   "outputs": [],
   "source": [
    "def make_predictions(X, W1, b1, W2, b2):\n",
    "    _, _, _, A2 = forward_prop(W1, b1, W2, b2, X)\n",
    "    predictions = get_predictions(A2)\n",
    "    return predictions\n",
    "\n",
    "def test_prediction(index, W1, b1, W2, b2):\n",
    "    current_image = X_train[:, index, None]\n",
    "    prediction = make_predictions(X_train[:, index, None], W1, b1, W2, b2)\n",
    "    label = Y_train[index]\n",
    "    print(\"Prediction: \", prediction)\n",
    "    print(\"Label: \", label)\n",
    "    \n",
    "    current_image = current_image.reshape((28, 28)) * 255\n",
    "    plt.gray()\n",
    "    plt.imshow(current_image, interpolation='nearest')\n",
    "    plt.show()"
   ]
  },
  {
   "cell_type": "code",
   "execution_count": 10,
   "id": "8dcda1d8",
   "metadata": {
    "execution": {
     "iopub.execute_input": "2024-02-29T11:05:21.787831Z",
     "iopub.status.busy": "2024-02-29T11:05:21.787281Z",
     "iopub.status.idle": "2024-02-29T11:05:22.529095Z",
     "shell.execute_reply": "2024-02-29T11:05:22.527771Z"
    },
    "papermill": {
     "duration": 0.768852,
     "end_time": "2024-02-29T11:05:22.531409",
     "exception": false,
     "start_time": "2024-02-29T11:05:21.762557",
     "status": "completed"
    },
    "tags": []
   },
   "outputs": [
    {
     "name": "stdout",
     "output_type": "stream",
     "text": [
      "Prediction:  [5]\n",
      "Label:  5\n"
     ]
    },
    {
     "data": {
      "image/png": "[encoded data removed]",
      "text/plain": [
       "<Figure size 640x480 with 1 Axes>"
      ]
     },
     "metadata": {},
     "output_type": "display_data"
    },
    {
     "name": "stdout",
     "output_type": "stream",
     "text": [
      "Prediction:  [9]\n",
      "Label:  9\n"
     ]
    },
    {
     "data": {
      "image/png": "[encoded data removed]",
      "text/plain": [
       "<Figure size 640x480 with 1 Axes>"
      ]
     },
     "metadata": {},
     "output_type": "display_data"
    },
    {
     "name": "stdout",
     "output_type": "stream",
     "text": [
      "Prediction:  [3]\n",
      "Label:  3\n"
     ]
    },
    {
     "data": {
      "image/png": "[encoded data removed]",
      "text/plain": [
       "<Figure size 640x480 with 1 Axes>"
      ]
     },
     "metadata": {},
     "output_type": "display_data"
    },
    {
     "name": "stdout",
     "output_type": "stream",
     "text": [
      "Prediction:  [8]\n",
      "Label:  5\n"
     ]
    },
    {
     "data": {
      "image/png": "[encoded data removed]",
      "text/plain": [
       "<Figure size 640x480 with 1 Axes>"
      ]
     },
     "metadata": {},
     "output_type": "display_data"
    }
   ],
   "source": [
    "test_prediction(0, W1, b1, W2, b2)\n",
    "test_prediction(1, W1, b1, W2, b2)\n",
    "test_prediction(2, W1, b1, W2, b2)\n",
    "test_prediction(3, W1, b1, W2, b2)"
   ]
  },
  {
   "cell_type": "code",
   "execution_count": 11,
   "id": "79731b55",
   "metadata": {
    "execution": {
     "iopub.execute_input": "2024-02-29T11:05:22.556570Z",
     "iopub.status.busy": "2024-02-29T11:05:22.556191Z",
     "iopub.status.idle": "2024-02-29T11:05:22.589061Z",
     "shell.execute_reply": "2024-02-29T11:05:22.587553Z"
    },
    "papermill": {
     "duration": 0.052574,
     "end_time": "2024-02-29T11:05:22.595748",
     "exception": false,
     "start_time": "2024-02-29T11:05:22.543174",
     "status": "completed"
    },
    "tags": []
   },
   "outputs": [
    {
     "name": "stdout",
     "output_type": "stream",
     "text": [
      "[6 9 8 8 1 0 8 8 5 9 9 3 3 4 3 3 8 6 4 4 3 8 2 7 5 3 7 3 5 1 9 8 2 9 0 5 7\n",
      " 7 7 2 8 1 5 2 1 6 3 1 4 5 1 9 3 0 7 6 3 3 2 4 7 1 5 9 4 3 8 3 0 9 1 2 4 7\n",
      " 7 9 3 9 9 8 0 0 5 9 2 5 9 6 3 9 1 8 1 9 2 3 4 7 8 7 0 9 9 0 7 5 8 1 1 6 8\n",
      " 1 5 2 8 0 2 5 3 9 6 5 3 6 8 3 2 9 7 2 0 7 7 9 1 5 7 7 2 7 8 1 1 4 0 9 0 9\n",
      " 5 8 6 1 9 9 5 3 0 7 5 3 7 3 9 9 8 2 9 6 3 5 8 1 7 5 3 9 4 3 2 2 1 1 9 3 1\n",
      " 8 9 2 3 2 9 7 7 0 3 4 7 8 2 4 5 1 1 5 3 5 5 6 8 4 3 0 1 8 5 7 6 9 5 3 8 0\n",
      " 0 6 8 5 9 1 0 5 0 2 7 9 2 3 6 0 6 1 3 0 3 8 1 9 7 4 1 2 0 7 8 2 9 8 4 9 7\n",
      " 1 6 9 7 4 8 3 0 4 2 9 6 1 9 4 1 7 0 9 0 8 9 2 0 2 9 0 7 5 9 1 7 7 3 6 6 9\n",
      " 2 2 8 1 2 6 6 7 9 6 1 6 4 4 6 1 6 6 9 2 2 7 9 6 8 1 8 7 2 4 9 0 1 8 6 8 6\n",
      " 6 9 5 3 2 9 4 2 0 7 4 3 3 0 4 8 6 0 9 7 5 0 6 6 9 6 3 0 5 1 9 3 9 9 3 5 9\n",
      " 5 0 6 0 9 0 7 8 0 0 9 1 2 5 2 3 9 0 9 4 1 7 5 7 8 0 1 6 0 2 0 2 7 3 0 6 3\n",
      " 3 6 8 9 9 9 1 1 9 8 1 5 6 5 8 9 1 0 8 5 9 9 9 6 8 9 9 1 0 2 3 2 6 5 5 8 0\n",
      " 8 9 1 8 8 2 9 1 6 5 1 7 7 2 7 8 4 9 0 1 5 6 2 6 8 9 2 8 0 5 0 7 9 6 0 5 1\n",
      " 9 8 1 9 7 6 3 3 9 2 9 2 1 9 3 9 8 4 0 2 7 8 3 3 3 4 6 2 9 7 0 5 8 1 0 1 4\n",
      " 0 3 6 9 2 1 2 2 4 6 8 1 5 7 6 7 9 7 6 6 5 2 8 0 7 6 9 1 7 0 6 9 1 1 9 4 3\n",
      " 9 4 4 2 7 8 9 2 9 6 0 0 4 0 6 5 4 3 6 3 5 6 5 4 7 7 3 7 6 1 5 7 9 5 8 0 3\n",
      " 5 4 9 3 7 8 3 9 4 4 8 3 8 6 4 5 1 1 3 8 6 8 6 9 2 1 8 4 7 4 3 8 5 8 8 7 8\n",
      " 2 5 0 1 1 3 3 6 2 7 2 4 8 8 2 7 9 9 8 1 5 3 2 8 6 9 0 6 8 9 6 6 0 2 9 5 9\n",
      " 7 0 3 5 7 0 0 2 0 1 7 6 8 7 0 8 1 5 5 2 8 3 9 0 5 7 5 2 0 0 8 8 2 7 9 0 5\n",
      " 8 2 0 9 9 7 1 2 1 8 8 6 0 9 1 2 6 6 8 5 3 6 6 6 6 4 3 4 2 2 5 9 1 1 2 3 0\n",
      " 2 1 0 0 9 1 7 7 9 6 6 1 6 1 9 3 3 0 7 3 1 8 1 2 5 1 7 3 9 2 7 2 9 3 5 7 1\n",
      " 0 6 0 4 1 2 6 3 5 6 9 5 2 3 3 5 1 0 1 8 8 8 9 5 7 5 2 8 6 4 9 1 1 3 7 9 9\n",
      " 3 4 5 9 0 9 8 9 1 0 4 1 9 4 9 9 5 5 6 1 7 8 6 5 5 8 8 2 1 3 7 1 8 6 7 5 1\n",
      " 3 0 4 0 1 9 0 5 0 6 0 9 8 5 2 5 7 9 8 7 2 4 9 9 7 2 7 4 9 1 0 0 2 3 9 3 6\n",
      " 2 3 2 9 0 4 8 9 4 8 3 5 8 8 3 6 1 4 0 4 3 0 3 4 7 7 0 3 8 8 7 1 7 7 8 5 4\n",
      " 1 4 3 1 1 4 0 9 8 7 8 5 5 3 8 8 1 3 5 8 6 3 9 9 2 0 9 3 5 3 1 7 8 2 6 5 9\n",
      " 1 1 4 9 5 8 8 8 9 6 0 8 4 7 8 0 9 9 9 9 2 9 0 1 3 7 3 1 1 9 9 5 9 3 9 4 8\n",
      " 9] [6 9 8 8 1 0 8 8 5 4 9 3 3 4 2 3 8 6 4 4 3 3 2 7 5 3 7 3 5 1 9 0 2 9 0 5 7\n",
      " 7 7 2 1 1 5 2 1 6 3 1 4 5 1 9 3 0 7 6 7 3 2 4 7 1 5 4 4 3 8 3 0 9 1 2 4 7\n",
      " 7 9 3 9 9 8 0 0 5 9 2 5 7 6 5 9 1 8 1 9 3 5 4 7 8 2 0 9 9 0 7 5 8 1 1 6 8\n",
      " 1 5 3 3 0 2 5 3 9 6 5 5 6 8 5 2 9 7 2 0 7 7 4 1 5 7 7 7 7 3 1 1 4 0 9 0 9\n",
      " 5 8 6 1 9 9 5 3 0 7 5 1 7 3 9 9 8 2 9 6 3 5 5 1 7 5 3 9 4 3 2 6 1 1 5 3 8\n",
      " 8 9 7 3 2 9 7 7 0 3 4 9 8 2 4 5 1 1 5 3 8 5 6 8 4 3 0 1 8 5 7 6 9 3 3 8 0\n",
      " 0 6 8 5 4 1 0 5 0 2 7 9 2 3 6 0 6 1 3 0 3 8 1 9 9 4 1 3 0 7 8 2 9 8 4 7 7\n",
      " 1 6 1 7 4 5 3 0 4 8 4 6 1 9 4 1 7 0 9 0 8 9 2 0 2 9 0 3 3 9 1 7 7 3 6 6 9\n",
      " 2 2 8 8 2 6 6 7 9 6 1 6 4 4 6 1 6 6 9 8 2 7 9 6 6 1 3 5 2 4 9 0 1 8 6 8 6\n",
      " 6 9 5 3 2 9 4 2 0 7 4 3 3 0 4 5 6 0 9 7 5 0 6 6 9 6 3 0 5 1 9 3 9 9 3 5 9\n",
      " 5 0 6 0 9 0 7 8 0 0 9 1 2 5 2 3 4 0 4 4 1 7 5 7 1 0 1 6 0 2 0 2 7 3 0 4 3\n",
      " 3 6 8 7 4 4 1 1 9 8 1 9 6 5 8 4 1 0 8 5 9 9 4 6 8 9 9 1 0 2 2 2 6 6 5 8 0\n",
      " 1 4 1 8 1 6 9 1 6 3 1 7 7 2 7 8 6 4 0 1 5 6 2 6 8 9 2 8 0 5 0 7 9 6 0 5 1\n",
      " 4 8 1 9 7 6 3 3 9 2 9 2 1 9 3 8 8 4 9 2 7 8 3 3 3 4 0 2 4 7 6 5 8 1 0 1 4\n",
      " 0 3 6 9 2 1 2 2 4 6 8 1 5 7 6 7 9 7 6 6 5 2 8 0 7 6 9 1 7 0 6 9 1 1 9 4 3\n",
      " 9 4 4 2 7 8 7 2 9 6 0 0 4 0 6 5 4 3 8 3 5 6 8 4 7 7 3 7 6 1 5 7 9 5 8 0 3\n",
      " 5 4 5 3 2 8 3 9 4 4 5 3 5 3 4 5 1 1 3 8 6 8 6 8 2 1 8 4 7 4 3 8 5 8 8 7 5\n",
      " 2 5 0 1 1 2 3 6 2 7 2 4 8 8 2 7 4 9 8 1 5 3 2 8 6 9 0 6 8 9 6 6 0 2 3 5 3\n",
      " 7 0 3 5 7 9 0 2 7 1 7 6 8 7 5 4 1 5 5 2 5 3 9 0 3 7 5 2 0 0 4 8 8 7 9 0 5\n",
      " 8 2 0 9 2 7 1 2 1 8 8 6 0 7 1 2 6 6 8 5 3 5 6 6 6 6 3 4 2 3 5 9 1 1 2 3 0\n",
      " 2 1 0 0 9 1 7 7 9 6 6 1 6 1 9 3 3 0 7 3 1 8 1 2 5 1 7 3 9 2 7 2 9 3 5 7 1\n",
      " 0 6 0 4 1 2 6 3 5 6 9 5 2 3 2 5 1 0 1 8 2 8 9 5 7 5 2 8 6 4 9 1 8 3 7 9 4\n",
      " 3 4 5 9 0 7 8 8 1 0 8 1 9 4 9 3 5 5 6 1 7 8 6 5 3 8 8 2 1 3 7 1 8 6 7 5 1\n",
      " 3 0 4 0 1 9 0 5 0 6 0 4 8 5 2 5 7 9 8 7 2 4 9 4 7 2 7 4 7 1 0 0 2 7 9 3 6\n",
      " 2 2 2 7 0 4 8 9 4 8 3 5 8 5 3 6 1 2 0 4 0 0 3 4 7 7 0 3 8 4 7 1 7 7 8 0 4\n",
      " 1 4 9 1 1 4 0 9 8 7 8 8 5 3 8 6 1 3 5 8 6 3 9 7 2 0 9 3 5 3 1 7 8 2 6 5 9\n",
      " 1 2 4 9 5 8 8 5 9 6 0 8 4 7 8 0 9 9 9 9 7 9 6 1 3 7 3 1 1 9 9 5 9 3 9 4 8\n",
      " 9]\n"
     ]
    },
    {
     "data": {
      "text/plain": [
       "0.876"
      ]
     },
     "execution_count": 11,
     "metadata": {},
     "output_type": "execute_result"
    }
   ],
   "source": [
    "dev_predictions = make_predictions(X_dev, W1, b1, W2, b2)\n",
    "get_accuracy(dev_predictions, Y_dev)"
   ]
  }
 ],
 "metadata": {
  "kaggle": {
   "accelerator": "none",
   "dataSources": [
    {
     "databundleVersionId": 861823,
     "sourceId": 3004,
     "sourceType": "competition"
    }
   ],
   "dockerImageVersionId": 30646,
   "isGpuEnabled": false,
   "isInternetEnabled": false,
   "language": "python",
   "sourceType": "notebook"
  },
  "kernelspec": {
   "display_name": "Python 3",
   "language": "python",
   "name": "python3"
  },
  "language_info": {
   "codemirror_mode": {
    "name": "ipython",
    "version": 3
   },
   "file_extension": ".py",
   "mimetype": "text/x-python",
   "name": "python",
   "nbconvert_exporter": "python",
   "pygments_lexer": "ipython3",
   "version": "3.10.13"
  },
  "papermill": {
   "default_parameters": {},
   "duration": 75.418929,
   "end_time": "2024-02-29T11:05:23.144098",
   "environment_variables": {},
   "exception": null,
   "input_path": "__notebook__.ipynb",
   "output_path": "__notebook__.ipynb",
   "parameters": {},
   "start_time": "2024-02-29T11:04:07.725169",
   "version": "2.5.0"
  }
 },
 "nbformat": 4,
 "nbformat_minor": 5
}
