{
 "cells": [
  {
   "cell_type": "code",
   "execution_count": 1,
   "id": "30419855",
   "metadata": {
    "_cell_guid": "b1076dfc-b9ad-4769-8c92-a6c4dae69d19",
    "_uuid": "8f2839f25d086af736a60e9eeb907d3b93b6e0e5",
    "execution": {
     "iopub.execute_input": "2024-02-29T07:20:26.480901Z",
     "iopub.status.busy": "2024-02-29T07:20:26.480406Z",
     "iopub.status.idle": "2024-02-29T07:20:26.498994Z",
     "shell.execute_reply": "2024-02-29T07:20:26.497168Z"
    },
    "papermill": {
     "duration": 0.028707,
     "end_time": "2024-02-29T07:20:26.502055",
     "exception": false,
     "start_time": "2024-02-29T07:20:26.473348",
     "status": "completed"
    },
    "tags": []
   },
   "outputs": [
    {
     "name": "stdout",
     "output_type": "stream",
     "text": [
      "/kaggle/input/digit-recognizer/sample_submission.csv\n",
      "/kaggle/input/digit-recognizer/train.csv\n",
      "/kaggle/input/digit-recognizer/test.csv\n"
     ]
    }
   ],
   "source": [
    "# Input data files are available in the read-only \"../input/\" directory\n",
    "# For example, running this (by clicking run or pressing Shift+Enter) will list all files under the input directory\n",
    "\n",
    "import os\n",
    "for dirname, _, filenames in os.walk('/kaggle/input'):\n",
    "    for filename in filenames:\n",
    "        print(os.path.join(dirname, filename))\n",
    "\n",
    "# You can write up to 20GB to the current directory (/kaggle/working/) that gets preserved as output when you create a version using \"Save & Run All\" \n",
    "# You can also write temporary files to /kaggle/temp/, but they won't be saved outside of the current session"
   ]
  },
  {
   "cell_type": "code",
   "execution_count": 2,
   "id": "e8bd4783",
   "metadata": {
    "execution": {
     "iopub.execute_input": "2024-02-29T07:20:26.514316Z",
     "iopub.status.busy": "2024-02-29T07:20:26.513052Z",
     "iopub.status.idle": "2024-02-29T07:20:27.524345Z",
     "shell.execute_reply": "2024-02-29T07:20:27.522825Z"
    },
    "papermill": {
     "duration": 1.020581,
     "end_time": "2024-02-29T07:20:27.527646",
     "exception": false,
     "start_time": "2024-02-29T07:20:26.507065",
     "status": "completed"
    },
    "tags": []
   },
   "outputs": [],
   "source": [
    "import numpy as np\n",
    "import pandas as pd\n",
    "from matplotlib import pyplot as plt"
   ]
  },
  {
   "cell_type": "code",
   "execution_count": 3,
   "id": "53079457",
   "metadata": {
    "execution": {
     "iopub.execute_input": "2024-02-29T07:20:27.540040Z",
     "iopub.status.busy": "2024-02-29T07:20:27.539395Z",
     "iopub.status.idle": "2024-02-29T07:20:31.894883Z",
     "shell.execute_reply": "2024-02-29T07:20:31.893449Z"
    },
    "papermill": {
     "duration": 4.365086,
     "end_time": "2024-02-29T07:20:31.897711",
     "exception": false,
     "start_time": "2024-02-29T07:20:27.532625",
     "status": "completed"
    },
    "tags": []
   },
   "outputs": [
    {
     "data": {
      "text/html": [
       "<div>\n",
       "<style scoped>\n",
       "    .dataframe tbody tr th:only-of-type {\n",
       "        vertical-align: middle;\n",
       "    }\n",
       "\n",
       "    .dataframe tbody tr th {\n",
       "        vertical-align: top;\n",
       "    }\n",
       "\n",
       "    .dataframe thead th {\n",
       "        text-align: right;\n",
       "    }\n",
       "</style>\n",
       "<table border=\"1\" class=\"dataframe\">\n",
       "  <thead>\n",
       "    <tr style=\"text-align: right;\">\n",
       "      <th></th>\n",
       "      <th>label</th>\n",
       "      <th>pixel0</th>\n",
       "      <th>pixel1</th>\n",
       "      <th>pixel2</th>\n",
       "      <th>pixel3</th>\n",
       "      <th>pixel4</th>\n",
       "      <th>pixel5</th>\n",
       "      <th>pixel6</th>\n",
       "      <th>pixel7</th>\n",
       "      <th>pixel8</th>\n",
       "      <th>...</th>\n",
       "      <th>pixel774</th>\n",
       "      <th>pixel775</th>\n",
       "      <th>pixel776</th>\n",
       "      <th>pixel777</th>\n",
       "      <th>pixel778</th>\n",
       "      <th>pixel779</th>\n",
       "      <th>pixel780</th>\n",
       "      <th>pixel781</th>\n",
       "      <th>pixel782</th>\n",
       "      <th>pixel783</th>\n",
       "    </tr>\n",
       "  </thead>\n",
       "  <tbody>\n",
       "    <tr>\n",
       "      <th>0</th>\n",
       "      <td>1</td>\n",
       "      <td>0</td>\n",
       "      <td>0</td>\n",
       "      <td>0</td>\n",
       "      <td>0</td>\n",
       "      <td>0</td>\n",
       "      <td>0</td>\n",
       "      <td>0</td>\n",
       "      <td>0</td>\n",
       "      <td>0</td>\n",
       "      <td>...</td>\n",
       "      <td>0</td>\n",
       "      <td>0</td>\n",
       "      <td>0</td>\n",
       "      <td>0</td>\n",
       "      <td>0</td>\n",
       "      <td>0</td>\n",
       "      <td>0</td>\n",
       "      <td>0</td>\n",
       "      <td>0</td>\n",
       "      <td>0</td>\n",
       "    </tr>\n",
       "    <tr>\n",
       "      <th>1</th>\n",
       "      <td>0</td>\n",
       "      <td>0</td>\n",
       "      <td>0</td>\n",
       "      <td>0</td>\n",
       "      <td>0</td>\n",
       "      <td>0</td>\n",
       "      <td>0</td>\n",
       "      <td>0</td>\n",
       "      <td>0</td>\n",
       "      <td>0</td>\n",
       "      <td>...</td>\n",
       "      <td>0</td>\n",
       "      <td>0</td>\n",
       "      <td>0</td>\n",
       "      <td>0</td>\n",
       "      <td>0</td>\n",
       "      <td>0</td>\n",
       "      <td>0</td>\n",
       "      <td>0</td>\n",
       "      <td>0</td>\n",
       "      <td>0</td>\n",
       "    </tr>\n",
       "    <tr>\n",
       "      <th>2</th>\n",
       "      <td>1</td>\n",
       "      <td>0</td>\n",
       "      <td>0</td>\n",
       "      <td>0</td>\n",
       "      <td>0</td>\n",
       "      <td>0</td>\n",
       "      <td>0</td>\n",
       "      <td>0</td>\n",
       "      <td>0</td>\n",
       "      <td>0</td>\n",
       "      <td>...</td>\n",
       "      <td>0</td>\n",
       "      <td>0</td>\n",
       "      <td>0</td>\n",
       "      <td>0</td>\n",
       "      <td>0</td>\n",
       "      <td>0</td>\n",
       "      <td>0</td>\n",
       "      <td>0</td>\n",
       "      <td>0</td>\n",
       "      <td>0</td>\n",
       "    </tr>\n",
       "    <tr>\n",
       "      <th>3</th>\n",
       "      <td>4</td>\n",
       "      <td>0</td>\n",
       "      <td>0</td>\n",
       "      <td>0</td>\n",
       "      <td>0</td>\n",
       "      <td>0</td>\n",
       "      <td>0</td>\n",
       "      <td>0</td>\n",
       "      <td>0</td>\n",
       "      <td>0</td>\n",
       "      <td>...</td>\n",
       "      <td>0</td>\n",
       "      <td>0</td>\n",
       "      <td>0</td>\n",
       "      <td>0</td>\n",
       "      <td>0</td>\n",
       "      <td>0</td>\n",
       "      <td>0</td>\n",
       "      <td>0</td>\n",
       "      <td>0</td>\n",
       "      <td>0</td>\n",
       "    </tr>\n",
       "    <tr>\n",
       "      <th>4</th>\n",
       "      <td>0</td>\n",
       "      <td>0</td>\n",
       "      <td>0</td>\n",
       "      <td>0</td>\n",
       "      <td>0</td>\n",
       "      <td>0</td>\n",
       "      <td>0</td>\n",
       "      <td>0</td>\n",
       "      <td>0</td>\n",
       "      <td>0</td>\n",
       "      <td>...</td>\n",
       "      <td>0</td>\n",
       "      <td>0</td>\n",
       "      <td>0</td>\n",
       "      <td>0</td>\n",
       "      <td>0</td>\n",
       "      <td>0</td>\n",
       "      <td>0</td>\n",
       "      <td>0</td>\n",
       "      <td>0</td>\n",
       "      <td>0</td>\n",
       "    </tr>\n",
       "  </tbody>\n",
       "</table>\n",
       "<p>5 rows × 785 columns</p>\n",
       "</div>"
      ],
      "text/plain": [
       "   label  pixel0  pixel1  pixel2  pixel3  pixel4  pixel5  pixel6  pixel7  \\\n",
       "0      1       0       0       0       0       0       0       0       0   \n",
       "1      0       0       0       0       0       0       0       0       0   \n",
       "2      1       0       0       0       0       0       0       0       0   \n",
       "3      4       0       0       0       0       0       0       0       0   \n",
       "4      0       0       0       0       0       0       0       0       0   \n",
       "\n",
       "   pixel8  ...  pixel774  pixel775  pixel776  pixel777  pixel778  pixel779  \\\n",
       "0       0  ...         0         0         0         0         0         0   \n",
       "1       0  ...         0         0         0         0         0         0   \n",
       "2       0  ...         0         0         0         0         0         0   \n",
       "3       0  ...         0         0         0         0         0         0   \n",
       "4       0  ...         0         0         0         0         0         0   \n",
       "\n",
       "   pixel780  pixel781  pixel782  pixel783  \n",
       "0         0         0         0         0  \n",
       "1         0         0         0         0  \n",
       "2         0         0         0         0  \n",
       "3         0         0         0         0  \n",
       "4         0         0         0         0  \n",
       "\n",
       "[5 rows x 785 columns]"
      ]
     },
     "execution_count": 3,
     "metadata": {},
     "output_type": "execute_result"
    }
   ],
   "source": [
    "data = pd.read_csv('/kaggle/input/digit-recognizer/train.csv')\n",
    "data.head()\n"
   ]
  },
  {
   "cell_type": "code",
   "execution_count": 4,
   "id": "c175ba5f",
   "metadata": {
    "execution": {
     "iopub.execute_input": "2024-02-29T07:20:31.912513Z",
     "iopub.status.busy": "2024-02-29T07:20:31.910030Z",
     "iopub.status.idle": "2024-02-29T07:20:32.646026Z",
     "shell.execute_reply": "2024-02-29T07:20:32.645023Z"
    },
    "papermill": {
     "duration": 0.745637,
     "end_time": "2024-02-29T07:20:32.648707",
     "exception": false,
     "start_time": "2024-02-29T07:20:31.903070",
     "status": "completed"
    },
    "tags": []
   },
   "outputs": [],
   "source": [
    "data = np.array(data)\n",
    "m, n = data.shape\n",
    "np.random.shuffle(data)\n",
    "\n",
    "data_dev = data[0:1000].T\n",
    "X_dev = data_dev[1:n]\n",
    "Y_dev = data_dev[0]\n",
    "\n",
    "data_train = data[1000:m].T\n",
    "X_train = data_train[1:n]\n",
    "Y_train = data_train[0]"
   ]
  },
  {
   "cell_type": "code",
   "execution_count": 5,
   "id": "48b360a6",
   "metadata": {
    "execution": {
     "iopub.execute_input": "2024-02-29T07:20:32.660590Z",
     "iopub.status.busy": "2024-02-29T07:20:32.659938Z",
     "iopub.status.idle": "2024-02-29T07:20:32.666826Z",
     "shell.execute_reply": "2024-02-29T07:20:32.665759Z"
    },
    "papermill": {
     "duration": 0.015267,
     "end_time": "2024-02-29T07:20:32.669007",
     "exception": false,
     "start_time": "2024-02-29T07:20:32.653740",
     "status": "completed"
    },
    "tags": []
   },
   "outputs": [
    {
     "data": {
      "text/plain": [
       "(784,)"
      ]
     },
     "execution_count": 5,
     "metadata": {},
     "output_type": "execute_result"
    }
   ],
   "source": [
    "X_train[:, 0].shape"
   ]
  },
  {
   "cell_type": "code",
   "execution_count": 6,
   "id": "2afdd56d",
   "metadata": {
    "execution": {
     "iopub.execute_input": "2024-02-29T07:20:32.681262Z",
     "iopub.status.busy": "2024-02-29T07:20:32.680845Z",
     "iopub.status.idle": "2024-02-29T07:20:32.688675Z",
     "shell.execute_reply": "2024-02-29T07:20:32.687296Z"
    },
    "papermill": {
     "duration": 0.016851,
     "end_time": "2024-02-29T07:20:32.691140",
     "exception": false,
     "start_time": "2024-02-29T07:20:32.674289",
     "status": "completed"
    },
    "tags": []
   },
   "outputs": [
    {
     "data": {
      "text/plain": [
       "array([4, 8, 6, ..., 1, 1, 0])"
      ]
     },
     "execution_count": 6,
     "metadata": {},
     "output_type": "execute_result"
    }
   ],
   "source": [
    "Y_train"
   ]
  },
  {
   "cell_type": "code",
   "execution_count": 7,
   "id": "da15ce1e",
   "metadata": {
    "execution": {
     "iopub.execute_input": "2024-02-29T07:20:32.703647Z",
     "iopub.status.busy": "2024-02-29T07:20:32.703217Z",
     "iopub.status.idle": "2024-02-29T07:20:32.718885Z",
     "shell.execute_reply": "2024-02-29T07:20:32.717784Z"
    },
    "papermill": {
     "duration": 0.024735,
     "end_time": "2024-02-29T07:20:32.721086",
     "exception": false,
     "start_time": "2024-02-29T07:20:32.696351",
     "status": "completed"
    },
    "tags": []
   },
   "outputs": [],
   "source": [
    "def init_parameters():\n",
    "    W1 = np.random.randn(10, 784) #weights for the 10 nodes in 1st hidden layer\n",
    "    b1 = np.random.randn(10, 1)\n",
    "    W2 = np.random.randn(10, 10) #weights for the 10 nodes in 1st hidden layer\n",
    "    b2 = np.random.randn(10, 1)\n",
    "    \n",
    "    return W1, b1, W2, b2\n",
    "\n",
    "def ReLU(Z):\n",
    "    #goes through each element e in Z and\n",
    "    #outputs 0 if e<0 otherwise\n",
    "    #outputs e if e>0\n",
    "    return np.maximum(0, Z)\n",
    "\n",
    "def softmax(Z):\n",
    "    #gives a value b/w 0 and 1 indicating probability\n",
    "    return np.exp(Z) / np.sum(np.exp(Z))\n",
    "\n",
    "def forward_propagation(W1, b1, W2, b2, X):\n",
    "    Z1 = W1.dot(X) + b1\n",
    "    A1 = ReLU(Z1)\n",
    "    Z2 = W2.dot(A1) + b2\n",
    "    A2 = softmax(Z2)\n",
    "    return Z1, A1, Z2, A2\n",
    "\n",
    "def one_hot_encoder(Y):\n",
    "    #encodes the label of output to a list of 10 elements\n",
    "    #containing zeros everywhere except the index given in the label\n",
    "    #where it is 1\n",
    "    one_hot_Y = np.zeros((Y.size, Y.max()+1))\n",
    "    one_hot_Y[np.arange(Y.size), Y] =1\n",
    "    one_hot_Y = one_hot_Y.T\n",
    "    \n",
    "    return one_hot_Y\n",
    "\n",
    "def derivative_ReLU(Z):\n",
    "    return Z > 0\n",
    "\n",
    "def back_propagation(Z1, A1, Z2, A2, W1, W2, X, Y):\n",
    "    m = Y.size\n",
    "    one_hot_Y = one_hot_encoder(Y)\n",
    "    dZ2 = A2 - one_hot_Y\n",
    "    dW2 = 1 / m * dZ2.dot(A1.T)\n",
    "    db2 = 1 / m * np.sum(dZ2)\n",
    "    dZ1 = W2.T.dot(dZ2) * derivative_ReLU(Z1)\n",
    "    dW1 = 1 / m * dZ1.dot(X.T)\n",
    "    db1 = 1 / m * np.sum(dZ1)\n",
    "    \n",
    "    return dW1, db1, dW2, db2\n",
    "\n",
    "def update_parameters(W1, b1, W2, b2, dW1, db1, dW2, db2, alpha):\n",
    "    W1 = W1 - alpha * dW1\n",
    "    b1 = b1 - alpha * db1\n",
    "    W2 = W2 - alpha * dW2\n",
    "    b2 = b2 - alpha * db2\n",
    "    \n",
    "    return W1, b1, W2, b2\n",
    "    "
   ]
  },
  {
   "cell_type": "code",
   "execution_count": 8,
   "id": "a4f94687",
   "metadata": {
    "execution": {
     "iopub.execute_input": "2024-02-29T07:20:32.733244Z",
     "iopub.status.busy": "2024-02-29T07:20:32.732843Z",
     "iopub.status.idle": "2024-02-29T07:20:32.742750Z",
     "shell.execute_reply": "2024-02-29T07:20:32.741616Z"
    },
    "papermill": {
     "duration": 0.018781,
     "end_time": "2024-02-29T07:20:32.745152",
     "exception": false,
     "start_time": "2024-02-29T07:20:32.726371",
     "status": "completed"
    },
    "tags": []
   },
   "outputs": [],
   "source": [
    "def get_predictions(A2):\n",
    "    return np.argmax(A2, 0)\n",
    "\n",
    "def get_accuracy(predictions, Y):\n",
    "    print(predictions, Y)\n",
    "    return np.sum(predictions == Y)/Y.size\n",
    "\n",
    "def gradient_descent(X, Y, iterations, alpha):\n",
    "    W1, b1, W2, b2 = init_parameters()\n",
    "    for i in range(iterations):\n",
    "        Z1, A1, Z2, A2 = forward_propagation(W1, b1, W2, b2, X)\n",
    "        dW1, db1, dW2, db2 = back_propagation(Z1, A1, Z2, A2, W1, W2, X, Y)\n",
    "        W1, b1, W2, b2 = update_parameters(W1, b1, W2, b2, dW1, db1, dW2, db2, alpha)\n",
    "        if i%50 == 0:\n",
    "            print(\"Iteration: \",i)\n",
    "            print(\"Accuracy: \", get_accuracy(get_predictions(A2), Y))\n",
    "    \n",
    "    return W1, b1, W2, b2"
   ]
  },
  {
   "cell_type": "code",
   "execution_count": 9,
   "id": "d84d09a8",
   "metadata": {
    "execution": {
     "iopub.execute_input": "2024-02-29T07:20:32.757100Z",
     "iopub.status.busy": "2024-02-29T07:20:32.756709Z",
     "iopub.status.idle": "2024-02-29T07:21:11.221996Z",
     "shell.execute_reply": "2024-02-29T07:21:11.220880Z"
    },
    "papermill": {
     "duration": 38.486872,
     "end_time": "2024-02-29T07:21:11.237238",
     "exception": false,
     "start_time": "2024-02-29T07:20:32.750366",
     "status": "completed"
    },
    "tags": []
   },
   "outputs": [
    {
     "name": "stderr",
     "output_type": "stream",
     "text": [
      "/tmp/ipykernel_18/2929505523.py:17: RuntimeWarning: overflow encountered in exp\n",
      "  return np.exp(Z) / np.sum(np.exp(Z))\n",
      "/tmp/ipykernel_18/2929505523.py:17: RuntimeWarning: invalid value encountered in divide\n",
      "  return np.exp(Z) / np.sum(np.exp(Z))\n"
     ]
    },
    {
     "name": "stdout",
     "output_type": "stream",
     "text": [
      "Iteration:  0\n",
      "[1 1 1 ... 1 1 1] [4 8 6 ... 1 1 0]\n",
      "Accuracy:  0.08926829268292683\n",
      "Iteration:  50\n",
      "[0 0 0 ... 0 0 0] [4 8 6 ... 1 1 0]\n",
      "Accuracy:  0.0985609756097561\n",
      "Iteration:  100\n",
      "[0 0 0 ... 0 0 0] [4 8 6 ... 1 1 0]\n",
      "Accuracy:  0.0985609756097561\n"
     ]
    }
   ],
   "source": [
    "W1, b1, W2, b2 = gradient_descent(X_train, Y_train, 101, 0.1)"
   ]
  },
  {
   "cell_type": "code",
   "execution_count": null,
   "id": "53a3622d",
   "metadata": {
    "papermill": {
     "duration": 0.020743,
     "end_time": "2024-02-29T07:21:11.269626",
     "exception": false,
     "start_time": "2024-02-29T07:21:11.248883",
     "status": "completed"
    },
    "tags": []
   },
   "outputs": [],
   "source": []
  }
 ],
 "metadata": {
  "kaggle": {
   "accelerator": "none",
   "dataSources": [
    {
     "databundleVersionId": 861823,
     "sourceId": 3004,
     "sourceType": "competition"
    }
   ],
   "dockerImageVersionId": 30646,
   "isGpuEnabled": false,
   "isInternetEnabled": false,
   "language": "python",
   "sourceType": "notebook"
  },
  "kernelspec": {
   "display_name": "Python 3",
   "language": "python",
   "name": "python3"
  },
  "language_info": {
   "codemirror_mode": {
    "name": "ipython",
    "version": 3
   },
   "file_extension": ".py",
   "mimetype": "text/x-python",
   "name": "python",
   "nbconvert_exporter": "python",
   "pygments_lexer": "ipython3",
   "version": "3.10.13"
  },
  "papermill": {
   "default_parameters": {},
   "duration": 48.59211,
   "end_time": "2024-02-29T07:21:11.819454",
   "environment_variables": {},
   "exception": null,
   "input_path": "__notebook__.ipynb",
   "output_path": "__notebook__.ipynb",
   "parameters": {},
   "start_time": "2024-02-29T07:20:23.227344",
   "version": "2.5.0"
  }
 },
 "nbformat": 4,
 "nbformat_minor": 5
}
